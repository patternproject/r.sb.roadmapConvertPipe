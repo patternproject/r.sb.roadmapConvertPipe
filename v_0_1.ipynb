{
  "nbformat": 4,
  "nbformat_minor": 0,
  "metadata": {
    "colab": {
      "name": "v 0 1.ipynb",
      "provenance": [],
      "collapsed_sections": [],
      "authorship_tag": "ABX9TyNIIKKI3JVo+WbdSiHKqXhg",
      "include_colab_link": true
    },
    "kernelspec": {
      "name": "ir",
      "display_name": "R"
    },
    "language_info": {
      "name": "R"
    }
  },
  "cells": [
    {
      "cell_type": "markdown",
      "metadata": {
        "id": "view-in-github",
        "colab_type": "text"
      },
      "source": [
        "<a href=\"https://colab.research.google.com/github/patternproject/r.sb.roadmapConvertPipe/blob/main/v_0_1.ipynb\" target=\"_parent\"><img src=\"https://colab.research.google.com/assets/colab-badge.svg\" alt=\"Open In Colab\"/></a>"
      ]
    },
    {
      "cell_type": "markdown",
      "metadata": {
        "id": "KlfxEBzeDLgN"
      },
      "source": [
        "# Read Me\n",
        "\n",
        "Azure Wiki requires a pipe-sign after every field to display them as a table"
      ]
    },
    {
      "cell_type": "markdown",
      "metadata": {
        "id": "EzBBttwmDLtn"
      },
      "source": [
        "# Version History\n",
        "\n",
        "v1 >> First Version"
      ]
    },
    {
      "cell_type": "code",
      "metadata": {
        "id": "sQt6u4w3Eaqj"
      },
      "source": [
        "library(tidyverse)"
      ],
      "execution_count": 2,
      "outputs": []
    },
    {
      "cell_type": "code",
      "metadata": {
        "colab": {
          "base_uri": "https://localhost:8080/"
        },
        "id": "T6OR7gCyE3tp",
        "outputId": "8ebcba72-7109-4d71-9a07-949170b6f353"
      },
      "source": [
        "df_1 = read_csv('/content/POS Roadmap - a.csv',col_names = FALSE)"
      ],
      "execution_count": 4,
      "outputs": [
        {
          "output_type": "stream",
          "text": [
            "\u001b[1m\u001b[1mRows: \u001b[1m\u001b[22m\u001b[34m\u001b[34m58\u001b[34m\u001b[39m \u001b[1m\u001b[1mColumns: \u001b[1m\u001b[22m\u001b[34m\u001b[34m8\u001b[34m\u001b[39m\n",
            "\n",
            "\u001b[36m──\u001b[39m \u001b[1m\u001b[1mColumn specification\u001b[1m\u001b[22m \u001b[36m────────────────────────────────────────────────────────\u001b[39m\n",
            "\u001b[1mDelimiter:\u001b[22m \",\"\n",
            "\u001b[31mchr\u001b[39m (7): X1, X2, X3, X4, X5, X6, X7\n",
            "\u001b[33mlgl\u001b[39m (1): X8\n",
            "\n",
            "\n",
            "\u001b[36mℹ\u001b[39m Use \u001b[30m\u001b[47m\u001b[30m\u001b[47m`spec()`\u001b[47m\u001b[30m\u001b[49m\u001b[39m to retrieve the full column specification for this data.\n",
            "\u001b[36mℹ\u001b[39m Specify the column types or set \u001b[30m\u001b[47m\u001b[30m\u001b[47m`show_col_types = FALSE`\u001b[47m\u001b[30m\u001b[49m\u001b[39m to quiet this message.\n",
            "\n"
          ],
          "name": "stderr"
        }
      ]
    },
    {
      "cell_type": "code",
      "metadata": {
        "colab": {
          "base_uri": "https://localhost:8080/",
          "height": 282
        },
        "id": "0g-FOiDMFYtO",
        "outputId": "cc4b7659-e8c7-4240-ca8e-f1e3a578ff0b"
      },
      "source": [
        "head(df_1)"
      ],
      "execution_count": 5,
      "outputs": [
        {
          "output_type": "display_data",
          "data": {
            "text/plain": [
              "  X1     X2     X3                               X4       X5 X6             \n",
              "1 Jul-21 Common Concave branding                 Customer NA Done           \n",
              "2 Jul-21 Common Invoice designer                 Customer NA Done           \n",
              "3 Jul-21 Retail Shift management in offline mode Customer NA Done           \n",
              "4 Jul-21 Common Bulk barcode sticker printing    Customer NA In Progress    \n",
              "5 Jul-21 Common Tax Management                   Customer NA Not Prioritized\n",
              "6 Jul-21 Common Security testing                 Internal NA Done           \n",
              "  X7           X8\n",
              "1 NA           NA\n",
              "2 NA           NA\n",
              "3 NA           NA\n",
              "4 Moved to Aug NA\n",
              "5 Moved to BL  NA\n",
              "6 NA           NA"
            ],
            "text/latex": "A tibble: 6 × 8\n\\begin{tabular}{llllllll}\n X1 & X2 & X3 & X4 & X5 & X6 & X7 & X8\\\\\n <chr> & <chr> & <chr> & <chr> & <chr> & <chr> & <chr> & <lgl>\\\\\n\\hline\n\t Jul-21 & Common & Concave branding                 & Customer & NA & Done            & NA           & NA\\\\\n\t Jul-21 & Common & Invoice designer                 & Customer & NA & Done            & NA           & NA\\\\\n\t Jul-21 & Retail & Shift management in offline mode & Customer & NA & Done            & NA           & NA\\\\\n\t Jul-21 & Common & Bulk barcode sticker printing    & Customer & NA & In Progress     & Moved to Aug & NA\\\\\n\t Jul-21 & Common & Tax Management                   & Customer & NA & Not Prioritized & Moved to BL  & NA\\\\\n\t Jul-21 & Common & Security testing                 & Internal & NA & Done            & NA           & NA\\\\\n\\end{tabular}\n",
            "text/markdown": "\nA tibble: 6 × 8\n\n| X1 &lt;chr&gt; | X2 &lt;chr&gt; | X3 &lt;chr&gt; | X4 &lt;chr&gt; | X5 &lt;chr&gt; | X6 &lt;chr&gt; | X7 &lt;chr&gt; | X8 &lt;lgl&gt; |\n|---|---|---|---|---|---|---|---|\n| Jul-21 | Common | Concave branding                 | Customer | NA | Done            | NA           | NA |\n| Jul-21 | Common | Invoice designer                 | Customer | NA | Done            | NA           | NA |\n| Jul-21 | Retail | Shift management in offline mode | Customer | NA | Done            | NA           | NA |\n| Jul-21 | Common | Bulk barcode sticker printing    | Customer | NA | In Progress     | Moved to Aug | NA |\n| Jul-21 | Common | Tax Management                   | Customer | NA | Not Prioritized | Moved to BL  | NA |\n| Jul-21 | Common | Security testing                 | Internal | NA | Done            | NA           | NA |\n\n",
            "text/html": [
              "<table class=\"dataframe\">\n",
              "<caption>A tibble: 6 × 8</caption>\n",
              "<thead>\n",
              "\t<tr><th scope=col>X1</th><th scope=col>X2</th><th scope=col>X3</th><th scope=col>X4</th><th scope=col>X5</th><th scope=col>X6</th><th scope=col>X7</th><th scope=col>X8</th></tr>\n",
              "\t<tr><th scope=col>&lt;chr&gt;</th><th scope=col>&lt;chr&gt;</th><th scope=col>&lt;chr&gt;</th><th scope=col>&lt;chr&gt;</th><th scope=col>&lt;chr&gt;</th><th scope=col>&lt;chr&gt;</th><th scope=col>&lt;chr&gt;</th><th scope=col>&lt;lgl&gt;</th></tr>\n",
              "</thead>\n",
              "<tbody>\n",
              "\t<tr><td>Jul-21</td><td>Common</td><td>Concave branding                </td><td>Customer</td><td>NA</td><td>Done           </td><td>NA          </td><td>NA</td></tr>\n",
              "\t<tr><td>Jul-21</td><td>Common</td><td>Invoice designer                </td><td>Customer</td><td>NA</td><td>Done           </td><td>NA          </td><td>NA</td></tr>\n",
              "\t<tr><td>Jul-21</td><td>Retail</td><td>Shift management in offline mode</td><td>Customer</td><td>NA</td><td>Done           </td><td>NA          </td><td>NA</td></tr>\n",
              "\t<tr><td>Jul-21</td><td>Common</td><td>Bulk barcode sticker printing   </td><td>Customer</td><td>NA</td><td>In Progress    </td><td>Moved to Aug</td><td>NA</td></tr>\n",
              "\t<tr><td>Jul-21</td><td>Common</td><td>Tax Management                  </td><td>Customer</td><td>NA</td><td>Not Prioritized</td><td>Moved to BL </td><td>NA</td></tr>\n",
              "\t<tr><td>Jul-21</td><td>Common</td><td>Security testing                </td><td>Internal</td><td>NA</td><td>Done           </td><td>NA          </td><td>NA</td></tr>\n",
              "</tbody>\n",
              "</table>\n"
            ]
          },
          "metadata": {}
        }
      ]
    },
    {
      "cell_type": "code",
      "metadata": {
        "id": "RGvjuWDnGfi4"
      },
      "source": [
        "df_1 %>% select(-X1) -> df_2"
      ],
      "execution_count": 6,
      "outputs": []
    },
    {
      "cell_type": "code",
      "metadata": {
        "colab": {
          "base_uri": "https://localhost:8080/",
          "height": 282
        },
        "id": "aPYFuWVaGl4Q",
        "outputId": "4380eb3b-7719-483a-d70f-d1b030bf67e5"
      },
      "source": [
        "head(df_2)"
      ],
      "execution_count": 7,
      "outputs": [
        {
          "output_type": "display_data",
          "data": {
            "text/plain": [
              "  X2     X3                               X4       X5 X6             \n",
              "1 Common Concave branding                 Customer NA Done           \n",
              "2 Common Invoice designer                 Customer NA Done           \n",
              "3 Retail Shift management in offline mode Customer NA Done           \n",
              "4 Common Bulk barcode sticker printing    Customer NA In Progress    \n",
              "5 Common Tax Management                   Customer NA Not Prioritized\n",
              "6 Common Security testing                 Internal NA Done           \n",
              "  X7           X8\n",
              "1 NA           NA\n",
              "2 NA           NA\n",
              "3 NA           NA\n",
              "4 Moved to Aug NA\n",
              "5 Moved to BL  NA\n",
              "6 NA           NA"
            ],
            "text/latex": "A tibble: 6 × 7\n\\begin{tabular}{lllllll}\n X2 & X3 & X4 & X5 & X6 & X7 & X8\\\\\n <chr> & <chr> & <chr> & <chr> & <chr> & <chr> & <lgl>\\\\\n\\hline\n\t Common & Concave branding                 & Customer & NA & Done            & NA           & NA\\\\\n\t Common & Invoice designer                 & Customer & NA & Done            & NA           & NA\\\\\n\t Retail & Shift management in offline mode & Customer & NA & Done            & NA           & NA\\\\\n\t Common & Bulk barcode sticker printing    & Customer & NA & In Progress     & Moved to Aug & NA\\\\\n\t Common & Tax Management                   & Customer & NA & Not Prioritized & Moved to BL  & NA\\\\\n\t Common & Security testing                 & Internal & NA & Done            & NA           & NA\\\\\n\\end{tabular}\n",
            "text/markdown": "\nA tibble: 6 × 7\n\n| X2 &lt;chr&gt; | X3 &lt;chr&gt; | X4 &lt;chr&gt; | X5 &lt;chr&gt; | X6 &lt;chr&gt; | X7 &lt;chr&gt; | X8 &lt;lgl&gt; |\n|---|---|---|---|---|---|---|\n| Common | Concave branding                 | Customer | NA | Done            | NA           | NA |\n| Common | Invoice designer                 | Customer | NA | Done            | NA           | NA |\n| Retail | Shift management in offline mode | Customer | NA | Done            | NA           | NA |\n| Common | Bulk barcode sticker printing    | Customer | NA | In Progress     | Moved to Aug | NA |\n| Common | Tax Management                   | Customer | NA | Not Prioritized | Moved to BL  | NA |\n| Common | Security testing                 | Internal | NA | Done            | NA           | NA |\n\n",
            "text/html": [
              "<table class=\"dataframe\">\n",
              "<caption>A tibble: 6 × 7</caption>\n",
              "<thead>\n",
              "\t<tr><th scope=col>X2</th><th scope=col>X3</th><th scope=col>X4</th><th scope=col>X5</th><th scope=col>X6</th><th scope=col>X7</th><th scope=col>X8</th></tr>\n",
              "\t<tr><th scope=col>&lt;chr&gt;</th><th scope=col>&lt;chr&gt;</th><th scope=col>&lt;chr&gt;</th><th scope=col>&lt;chr&gt;</th><th scope=col>&lt;chr&gt;</th><th scope=col>&lt;chr&gt;</th><th scope=col>&lt;lgl&gt;</th></tr>\n",
              "</thead>\n",
              "<tbody>\n",
              "\t<tr><td>Common</td><td>Concave branding                </td><td>Customer</td><td>NA</td><td>Done           </td><td>NA          </td><td>NA</td></tr>\n",
              "\t<tr><td>Common</td><td>Invoice designer                </td><td>Customer</td><td>NA</td><td>Done           </td><td>NA          </td><td>NA</td></tr>\n",
              "\t<tr><td>Retail</td><td>Shift management in offline mode</td><td>Customer</td><td>NA</td><td>Done           </td><td>NA          </td><td>NA</td></tr>\n",
              "\t<tr><td>Common</td><td>Bulk barcode sticker printing   </td><td>Customer</td><td>NA</td><td>In Progress    </td><td>Moved to Aug</td><td>NA</td></tr>\n",
              "\t<tr><td>Common</td><td>Tax Management                  </td><td>Customer</td><td>NA</td><td>Not Prioritized</td><td>Moved to BL </td><td>NA</td></tr>\n",
              "\t<tr><td>Common</td><td>Security testing                </td><td>Internal</td><td>NA</td><td>Done           </td><td>NA          </td><td>NA</td></tr>\n",
              "</tbody>\n",
              "</table>\n"
            ]
          },
          "metadata": {}
        }
      ]
    },
    {
      "cell_type": "code",
      "metadata": {
        "colab": {
          "base_uri": "https://localhost:8080/",
          "height": 34
        },
        "id": "WvsIzFniGyfO",
        "outputId": "e68ce086-8767-4663-a803-46f97cade9db"
      },
      "source": [
        "colnames(df_2)"
      ],
      "execution_count": 9,
      "outputs": [
        {
          "output_type": "display_data",
          "data": {
            "text/plain": [
              "[1] \"X2\" \"X3\" \"X4\" \"X5\" \"X6\" \"X7\" \"X8\""
            ],
            "text/latex": "\\begin{enumerate*}\n\\item 'X2'\n\\item 'X3'\n\\item 'X4'\n\\item 'X5'\n\\item 'X6'\n\\item 'X7'\n\\item 'X8'\n\\end{enumerate*}\n",
            "text/markdown": "1. 'X2'\n2. 'X3'\n3. 'X4'\n4. 'X5'\n5. 'X6'\n6. 'X7'\n7. 'X8'\n\n\n",
            "text/html": [
              "<style>\n",
              ".list-inline {list-style: none; margin:0; padding: 0}\n",
              ".list-inline>li {display: inline-block}\n",
              ".list-inline>li:not(:last-child)::after {content: \"\\00b7\"; padding: 0 .5ex}\n",
              "</style>\n",
              "<ol class=list-inline><li>'X2'</li><li>'X3'</li><li>'X4'</li><li>'X5'</li><li>'X6'</li><li>'X7'</li><li>'X8'</li></ol>\n"
            ]
          },
          "metadata": {}
        }
      ]
    },
    {
      "cell_type": "code",
      "metadata": {
        "id": "m09QfilQHAwa"
      },
      "source": [
        "df_2 %>% replace_na(list(\n",
        "  'X2'= \".\",\n",
        "  'X3'= \".\",\n",
        "  'X4'= \".\",\n",
        "  'X5'= \".\",\n",
        "  'X6'= \".\",\n",
        "  'X7'= \".\",\n",
        "  'X8'= \".\")) -> df_3"
      ],
      "execution_count": 11,
      "outputs": []
    }
  ]
}