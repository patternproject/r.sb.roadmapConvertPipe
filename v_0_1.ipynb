{
  "nbformat": 4,
  "nbformat_minor": 0,
  "metadata": {
    "colab": {
      "name": "v 0 1.ipynb",
      "provenance": [],
      "collapsed_sections": [],
      "authorship_tag": "ABX9TyPiAxg3BtM2xj2FavjvNSXP",
      "include_colab_link": true
    },
    "kernelspec": {
      "name": "ir",
      "display_name": "R"
    },
    "language_info": {
      "name": "R"
    }
  },
  "cells": [
    {
      "cell_type": "markdown",
      "metadata": {
        "id": "view-in-github",
        "colab_type": "text"
      },
      "source": [
        "<a href=\"https://colab.research.google.com/github/patternproject/r.sb.roadmapConvertPipe/blob/main/v_0_1.ipynb\" target=\"_parent\"><img src=\"https://colab.research.google.com/assets/colab-badge.svg\" alt=\"Open In Colab\"/></a>"
      ]
    },
    {
      "cell_type": "markdown",
      "metadata": {
        "id": "KlfxEBzeDLgN"
      },
      "source": [
        "# Read Me\n",
        "\n",
        "Azure Wiki requires a pipe-sign after every field to display them as a table"
      ]
    },
    {
      "cell_type": "markdown",
      "metadata": {
        "id": "EzBBttwmDLtn"
      },
      "source": [
        "# Version History\n",
        "\n",
        "v1 >> First Version"
      ]
    },
    {
      "cell_type": "code",
      "metadata": {
        "id": "sQt6u4w3Eaqj"
      },
      "source": [
        "library(tidyverse)"
      ],
      "execution_count": 2,
      "outputs": []
    },
    {
      "cell_type": "code",
      "metadata": {
        "colab": {
          "base_uri": "https://localhost:8080/"
        },
        "id": "T6OR7gCyE3tp",
        "outputId": "8ebcba72-7109-4d71-9a07-949170b6f353"
      },
      "source": [
        "df_1 = read_csv('/content/POS Roadmap - a.csv',col_names = FALSE)"
      ],
      "execution_count": 4,
      "outputs": [
        {
          "output_type": "stream",
          "text": [
            "\u001b[1m\u001b[1mRows: \u001b[1m\u001b[22m\u001b[34m\u001b[34m58\u001b[34m\u001b[39m \u001b[1m\u001b[1mColumns: \u001b[1m\u001b[22m\u001b[34m\u001b[34m8\u001b[34m\u001b[39m\n",
            "\n",
            "\u001b[36m──\u001b[39m \u001b[1m\u001b[1mColumn specification\u001b[1m\u001b[22m \u001b[36m────────────────────────────────────────────────────────\u001b[39m\n",
            "\u001b[1mDelimiter:\u001b[22m \",\"\n",
            "\u001b[31mchr\u001b[39m (7): X1, X2, X3, X4, X5, X6, X7\n",
            "\u001b[33mlgl\u001b[39m (1): X8\n",
            "\n",
            "\n",
            "\u001b[36mℹ\u001b[39m Use \u001b[30m\u001b[47m\u001b[30m\u001b[47m`spec()`\u001b[47m\u001b[30m\u001b[49m\u001b[39m to retrieve the full column specification for this data.\n",
            "\u001b[36mℹ\u001b[39m Specify the column types or set \u001b[30m\u001b[47m\u001b[30m\u001b[47m`show_col_types = FALSE`\u001b[47m\u001b[30m\u001b[49m\u001b[39m to quiet this message.\n",
            "\n"
          ],
          "name": "stderr"
        }
      ]
    },
    {
      "cell_type": "code",
      "metadata": {
        "colab": {
          "base_uri": "https://localhost:8080/",
          "height": 282
        },
        "id": "0g-FOiDMFYtO",
        "outputId": "cc4b7659-e8c7-4240-ca8e-f1e3a578ff0b"
      },
      "source": [
        "head(df_1)"
      ],
      "execution_count": 5,
      "outputs": [
        {
          "output_type": "display_data",
          "data": {
            "text/plain": [
              "  X1     X2     X3                               X4       X5 X6             \n",
              "1 Jul-21 Common Concave branding                 Customer NA Done           \n",
              "2 Jul-21 Common Invoice designer                 Customer NA Done           \n",
              "3 Jul-21 Retail Shift management in offline mode Customer NA Done           \n",
              "4 Jul-21 Common Bulk barcode sticker printing    Customer NA In Progress    \n",
              "5 Jul-21 Common Tax Management                   Customer NA Not Prioritized\n",
              "6 Jul-21 Common Security testing                 Internal NA Done           \n",
              "  X7           X8\n",
              "1 NA           NA\n",
              "2 NA           NA\n",
              "3 NA           NA\n",
              "4 Moved to Aug NA\n",
              "5 Moved to BL  NA\n",
              "6 NA           NA"
            ],
            "text/latex": "A tibble: 6 × 8\n\\begin{tabular}{llllllll}\n X1 & X2 & X3 & X4 & X5 & X6 & X7 & X8\\\\\n <chr> & <chr> & <chr> & <chr> & <chr> & <chr> & <chr> & <lgl>\\\\\n\\hline\n\t Jul-21 & Common & Concave branding                 & Customer & NA & Done            & NA           & NA\\\\\n\t Jul-21 & Common & Invoice designer                 & Customer & NA & Done            & NA           & NA\\\\\n\t Jul-21 & Retail & Shift management in offline mode & Customer & NA & Done            & NA           & NA\\\\\n\t Jul-21 & Common & Bulk barcode sticker printing    & Customer & NA & In Progress     & Moved to Aug & NA\\\\\n\t Jul-21 & Common & Tax Management                   & Customer & NA & Not Prioritized & Moved to BL  & NA\\\\\n\t Jul-21 & Common & Security testing                 & Internal & NA & Done            & NA           & NA\\\\\n\\end{tabular}\n",
            "text/markdown": "\nA tibble: 6 × 8\n\n| X1 &lt;chr&gt; | X2 &lt;chr&gt; | X3 &lt;chr&gt; | X4 &lt;chr&gt; | X5 &lt;chr&gt; | X6 &lt;chr&gt; | X7 &lt;chr&gt; | X8 &lt;lgl&gt; |\n|---|---|---|---|---|---|---|---|\n| Jul-21 | Common | Concave branding                 | Customer | NA | Done            | NA           | NA |\n| Jul-21 | Common | Invoice designer                 | Customer | NA | Done            | NA           | NA |\n| Jul-21 | Retail | Shift management in offline mode | Customer | NA | Done            | NA           | NA |\n| Jul-21 | Common | Bulk barcode sticker printing    | Customer | NA | In Progress     | Moved to Aug | NA |\n| Jul-21 | Common | Tax Management                   | Customer | NA | Not Prioritized | Moved to BL  | NA |\n| Jul-21 | Common | Security testing                 | Internal | NA | Done            | NA           | NA |\n\n",
            "text/html": [
              "<table class=\"dataframe\">\n",
              "<caption>A tibble: 6 × 8</caption>\n",
              "<thead>\n",
              "\t<tr><th scope=col>X1</th><th scope=col>X2</th><th scope=col>X3</th><th scope=col>X4</th><th scope=col>X5</th><th scope=col>X6</th><th scope=col>X7</th><th scope=col>X8</th></tr>\n",
              "\t<tr><th scope=col>&lt;chr&gt;</th><th scope=col>&lt;chr&gt;</th><th scope=col>&lt;chr&gt;</th><th scope=col>&lt;chr&gt;</th><th scope=col>&lt;chr&gt;</th><th scope=col>&lt;chr&gt;</th><th scope=col>&lt;chr&gt;</th><th scope=col>&lt;lgl&gt;</th></tr>\n",
              "</thead>\n",
              "<tbody>\n",
              "\t<tr><td>Jul-21</td><td>Common</td><td>Concave branding                </td><td>Customer</td><td>NA</td><td>Done           </td><td>NA          </td><td>NA</td></tr>\n",
              "\t<tr><td>Jul-21</td><td>Common</td><td>Invoice designer                </td><td>Customer</td><td>NA</td><td>Done           </td><td>NA          </td><td>NA</td></tr>\n",
              "\t<tr><td>Jul-21</td><td>Retail</td><td>Shift management in offline mode</td><td>Customer</td><td>NA</td><td>Done           </td><td>NA          </td><td>NA</td></tr>\n",
              "\t<tr><td>Jul-21</td><td>Common</td><td>Bulk barcode sticker printing   </td><td>Customer</td><td>NA</td><td>In Progress    </td><td>Moved to Aug</td><td>NA</td></tr>\n",
              "\t<tr><td>Jul-21</td><td>Common</td><td>Tax Management                  </td><td>Customer</td><td>NA</td><td>Not Prioritized</td><td>Moved to BL </td><td>NA</td></tr>\n",
              "\t<tr><td>Jul-21</td><td>Common</td><td>Security testing                </td><td>Internal</td><td>NA</td><td>Done           </td><td>NA          </td><td>NA</td></tr>\n",
              "</tbody>\n",
              "</table>\n"
            ]
          },
          "metadata": {}
        }
      ]
    },
    {
      "cell_type": "code",
      "metadata": {
        "id": "RGvjuWDnGfi4"
      },
      "source": [
        "df_1 %>% select(-X1) -> df_2"
      ],
      "execution_count": 6,
      "outputs": []
    },
    {
      "cell_type": "code",
      "metadata": {
        "colab": {
          "base_uri": "https://localhost:8080/",
          "height": 282
        },
        "id": "aPYFuWVaGl4Q",
        "outputId": "4380eb3b-7719-483a-d70f-d1b030bf67e5"
      },
      "source": [
        "head(df_2)"
      ],
      "execution_count": 7,
      "outputs": [
        {
          "output_type": "display_data",
          "data": {
            "text/plain": [
              "  X2     X3                               X4       X5 X6             \n",
              "1 Common Concave branding                 Customer NA Done           \n",
              "2 Common Invoice designer                 Customer NA Done           \n",
              "3 Retail Shift management in offline mode Customer NA Done           \n",
              "4 Common Bulk barcode sticker printing    Customer NA In Progress    \n",
              "5 Common Tax Management                   Customer NA Not Prioritized\n",
              "6 Common Security testing                 Internal NA Done           \n",
              "  X7           X8\n",
              "1 NA           NA\n",
              "2 NA           NA\n",
              "3 NA           NA\n",
              "4 Moved to Aug NA\n",
              "5 Moved to BL  NA\n",
              "6 NA           NA"
            ],
            "text/latex": "A tibble: 6 × 7\n\\begin{tabular}{lllllll}\n X2 & X3 & X4 & X5 & X6 & X7 & X8\\\\\n <chr> & <chr> & <chr> & <chr> & <chr> & <chr> & <lgl>\\\\\n\\hline\n\t Common & Concave branding                 & Customer & NA & Done            & NA           & NA\\\\\n\t Common & Invoice designer                 & Customer & NA & Done            & NA           & NA\\\\\n\t Retail & Shift management in offline mode & Customer & NA & Done            & NA           & NA\\\\\n\t Common & Bulk barcode sticker printing    & Customer & NA & In Progress     & Moved to Aug & NA\\\\\n\t Common & Tax Management                   & Customer & NA & Not Prioritized & Moved to BL  & NA\\\\\n\t Common & Security testing                 & Internal & NA & Done            & NA           & NA\\\\\n\\end{tabular}\n",
            "text/markdown": "\nA tibble: 6 × 7\n\n| X2 &lt;chr&gt; | X3 &lt;chr&gt; | X4 &lt;chr&gt; | X5 &lt;chr&gt; | X6 &lt;chr&gt; | X7 &lt;chr&gt; | X8 &lt;lgl&gt; |\n|---|---|---|---|---|---|---|\n| Common | Concave branding                 | Customer | NA | Done            | NA           | NA |\n| Common | Invoice designer                 | Customer | NA | Done            | NA           | NA |\n| Retail | Shift management in offline mode | Customer | NA | Done            | NA           | NA |\n| Common | Bulk barcode sticker printing    | Customer | NA | In Progress     | Moved to Aug | NA |\n| Common | Tax Management                   | Customer | NA | Not Prioritized | Moved to BL  | NA |\n| Common | Security testing                 | Internal | NA | Done            | NA           | NA |\n\n",
            "text/html": [
              "<table class=\"dataframe\">\n",
              "<caption>A tibble: 6 × 7</caption>\n",
              "<thead>\n",
              "\t<tr><th scope=col>X2</th><th scope=col>X3</th><th scope=col>X4</th><th scope=col>X5</th><th scope=col>X6</th><th scope=col>X7</th><th scope=col>X8</th></tr>\n",
              "\t<tr><th scope=col>&lt;chr&gt;</th><th scope=col>&lt;chr&gt;</th><th scope=col>&lt;chr&gt;</th><th scope=col>&lt;chr&gt;</th><th scope=col>&lt;chr&gt;</th><th scope=col>&lt;chr&gt;</th><th scope=col>&lt;lgl&gt;</th></tr>\n",
              "</thead>\n",
              "<tbody>\n",
              "\t<tr><td>Common</td><td>Concave branding                </td><td>Customer</td><td>NA</td><td>Done           </td><td>NA          </td><td>NA</td></tr>\n",
              "\t<tr><td>Common</td><td>Invoice designer                </td><td>Customer</td><td>NA</td><td>Done           </td><td>NA          </td><td>NA</td></tr>\n",
              "\t<tr><td>Retail</td><td>Shift management in offline mode</td><td>Customer</td><td>NA</td><td>Done           </td><td>NA          </td><td>NA</td></tr>\n",
              "\t<tr><td>Common</td><td>Bulk barcode sticker printing   </td><td>Customer</td><td>NA</td><td>In Progress    </td><td>Moved to Aug</td><td>NA</td></tr>\n",
              "\t<tr><td>Common</td><td>Tax Management                  </td><td>Customer</td><td>NA</td><td>Not Prioritized</td><td>Moved to BL </td><td>NA</td></tr>\n",
              "\t<tr><td>Common</td><td>Security testing                </td><td>Internal</td><td>NA</td><td>Done           </td><td>NA          </td><td>NA</td></tr>\n",
              "</tbody>\n",
              "</table>\n"
            ]
          },
          "metadata": {}
        }
      ]
    },
    {
      "cell_type": "code",
      "metadata": {
        "colab": {
          "base_uri": "https://localhost:8080/",
          "height": 34
        },
        "id": "WvsIzFniGyfO",
        "outputId": "e68ce086-8767-4663-a803-46f97cade9db"
      },
      "source": [
        "colnames(df_2)"
      ],
      "execution_count": 9,
      "outputs": [
        {
          "output_type": "display_data",
          "data": {
            "text/plain": [
              "[1] \"X2\" \"X3\" \"X4\" \"X5\" \"X6\" \"X7\" \"X8\""
            ],
            "text/latex": "\\begin{enumerate*}\n\\item 'X2'\n\\item 'X3'\n\\item 'X4'\n\\item 'X5'\n\\item 'X6'\n\\item 'X7'\n\\item 'X8'\n\\end{enumerate*}\n",
            "text/markdown": "1. 'X2'\n2. 'X3'\n3. 'X4'\n4. 'X5'\n5. 'X6'\n6. 'X7'\n7. 'X8'\n\n\n",
            "text/html": [
              "<style>\n",
              ".list-inline {list-style: none; margin:0; padding: 0}\n",
              ".list-inline>li {display: inline-block}\n",
              ".list-inline>li:not(:last-child)::after {content: \"\\00b7\"; padding: 0 .5ex}\n",
              "</style>\n",
              "<ol class=list-inline><li>'X2'</li><li>'X3'</li><li>'X4'</li><li>'X5'</li><li>'X6'</li><li>'X7'</li><li>'X8'</li></ol>\n"
            ]
          },
          "metadata": {}
        }
      ]
    },
    {
      "cell_type": "code",
      "metadata": {
        "id": "m09QfilQHAwa"
      },
      "source": [
        "df_2 %>% replace_na(list(\n",
        "  'X2'= \"\",\n",
        "  'X3'= \"\",\n",
        "  'X4'= \"\",\n",
        "  'X5'= \"\",\n",
        "  'X6'= \"\",\n",
        "  'X7'= \"\",\n",
        "  'X8'= \"\")) -> df_3"
      ],
      "execution_count": 12,
      "outputs": []
    },
    {
      "cell_type": "code",
      "metadata": {
        "colab": {
          "base_uri": "https://localhost:8080/",
          "height": 282
        },
        "id": "8vlTflDvHn1I",
        "outputId": "efa08f62-9107-4136-ae95-09ffe1550779"
      },
      "source": [
        "head(df_3)"
      ],
      "execution_count": 13,
      "outputs": [
        {
          "output_type": "display_data",
          "data": {
            "text/plain": [
              "  X2     X3                               X4       X5 X6             \n",
              "1 Common Concave branding                 Customer    Done           \n",
              "2 Common Invoice designer                 Customer    Done           \n",
              "3 Retail Shift management in offline mode Customer    Done           \n",
              "4 Common Bulk barcode sticker printing    Customer    In Progress    \n",
              "5 Common Tax Management                   Customer    Not Prioritized\n",
              "6 Common Security testing                 Internal    Done           \n",
              "  X7           X8\n",
              "1                \n",
              "2                \n",
              "3                \n",
              "4 Moved to Aug   \n",
              "5 Moved to BL    \n",
              "6                "
            ],
            "text/latex": "A tibble: 6 × 7\n\\begin{tabular}{lllllll}\n X2 & X3 & X4 & X5 & X6 & X7 & X8\\\\\n <chr> & <chr> & <chr> & <chr> & <chr> & <chr> & <chr>\\\\\n\\hline\n\t Common & Concave branding                 & Customer &  & Done            &              & \\\\\n\t Common & Invoice designer                 & Customer &  & Done            &              & \\\\\n\t Retail & Shift management in offline mode & Customer &  & Done            &              & \\\\\n\t Common & Bulk barcode sticker printing    & Customer &  & In Progress     & Moved to Aug & \\\\\n\t Common & Tax Management                   & Customer &  & Not Prioritized & Moved to BL  & \\\\\n\t Common & Security testing                 & Internal &  & Done            &              & \\\\\n\\end{tabular}\n",
            "text/markdown": "\nA tibble: 6 × 7\n\n| X2 &lt;chr&gt; | X3 &lt;chr&gt; | X4 &lt;chr&gt; | X5 &lt;chr&gt; | X6 &lt;chr&gt; | X7 &lt;chr&gt; | X8 &lt;chr&gt; |\n|---|---|---|---|---|---|---|\n| Common | Concave branding                 | Customer | <!----> | Done            | <!----> | <!----> |\n| Common | Invoice designer                 | Customer | <!----> | Done            | <!----> | <!----> |\n| Retail | Shift management in offline mode | Customer | <!----> | Done            | <!----> | <!----> |\n| Common | Bulk barcode sticker printing    | Customer | <!----> | In Progress     | Moved to Aug | <!----> |\n| Common | Tax Management                   | Customer | <!----> | Not Prioritized | Moved to BL  | <!----> |\n| Common | Security testing                 | Internal | <!----> | Done            | <!----> | <!----> |\n\n",
            "text/html": [
              "<table class=\"dataframe\">\n",
              "<caption>A tibble: 6 × 7</caption>\n",
              "<thead>\n",
              "\t<tr><th scope=col>X2</th><th scope=col>X3</th><th scope=col>X4</th><th scope=col>X5</th><th scope=col>X6</th><th scope=col>X7</th><th scope=col>X8</th></tr>\n",
              "\t<tr><th scope=col>&lt;chr&gt;</th><th scope=col>&lt;chr&gt;</th><th scope=col>&lt;chr&gt;</th><th scope=col>&lt;chr&gt;</th><th scope=col>&lt;chr&gt;</th><th scope=col>&lt;chr&gt;</th><th scope=col>&lt;chr&gt;</th></tr>\n",
              "</thead>\n",
              "<tbody>\n",
              "\t<tr><td>Common</td><td>Concave branding                </td><td>Customer</td><td></td><td>Done           </td><td>            </td><td></td></tr>\n",
              "\t<tr><td>Common</td><td>Invoice designer                </td><td>Customer</td><td></td><td>Done           </td><td>            </td><td></td></tr>\n",
              "\t<tr><td>Retail</td><td>Shift management in offline mode</td><td>Customer</td><td></td><td>Done           </td><td>            </td><td></td></tr>\n",
              "\t<tr><td>Common</td><td>Bulk barcode sticker printing   </td><td>Customer</td><td></td><td>In Progress    </td><td>Moved to Aug</td><td></td></tr>\n",
              "\t<tr><td>Common</td><td>Tax Management                  </td><td>Customer</td><td></td><td>Not Prioritized</td><td>Moved to BL </td><td></td></tr>\n",
              "\t<tr><td>Common</td><td>Security testing                </td><td>Internal</td><td></td><td>Done           </td><td>            </td><td></td></tr>\n",
              "</tbody>\n",
              "</table>\n"
            ]
          },
          "metadata": {}
        }
      ]
    },
    {
      "cell_type": "markdown",
      "metadata": {
        "id": "SRUxHKyNJZZU"
      },
      "source": [
        "https://tidyr.tidyverse.org/reference/unite.html"
      ]
    },
    {
      "cell_type": "code",
      "metadata": {
        "colab": {
          "base_uri": "https://localhost:8080/",
          "height": 1000
        },
        "id": "1RW5P6QIJTnz",
        "outputId": "b08b0d28-a74c-48d4-b459-ec2405a84cec"
      },
      "source": [
        "df_3 %>%\n",
        "unite(\"all\", na.rm = TRUE, remove = TRUE, sep='|')"
      ],
      "execution_count": 15,
      "outputs": [
        {
          "output_type": "stream",
          "text": [
            "Warning message in FUN(X[[i]], ...):\n",
            "“input string 1 is invalid in this locale”\n",
            "Warning message in FUN(X[[i]], ...):\n",
            "“input string 1 is invalid in this locale”\n",
            "Warning message in FUN(X[[i]], ...):\n",
            "“input string 1 is invalid in this locale”\n",
            "Warning message in FUN(X[[i]], ...):\n",
            "“input string 1 is invalid in this locale”\n",
            "Warning message in FUN(X[[i]], ...):\n",
            "“input string 1 is invalid in this locale”\n",
            "Warning message in FUN(X[[i]], ...):\n",
            "“input string 1 is invalid in this locale”\n",
            "ERROR while rich displaying an object: Error in gsub(chr, html_specials[[chr]], text, fixed = TRUE): input string 1 is invalid in this locale\n",
            "\n",
            "Traceback:\n",
            "1. FUN(X[[i]], ...)\n",
            "2. tryCatch(withCallingHandlers({\n",
            " .     if (!mime %in% names(repr::mime2repr)) \n",
            " .         stop(\"No repr_* for mimetype \", mime, \" in repr::mime2repr\")\n",
            " .     rpr <- repr::mime2repr[[mime]](obj)\n",
            " .     if (is.null(rpr)) \n",
            " .         return(NULL)\n",
            " .     prepare_content(is.raw(rpr), rpr)\n",
            " . }, error = error_handler), error = outer_handler)\n",
            "3. tryCatchList(expr, classes, parentenv, handlers)\n",
            "4. tryCatchOne(expr, names, parentenv, handlers[[1L]])\n",
            "5. doTryCatch(return(expr), name, parentenv, handler)\n",
            "6. withCallingHandlers({\n",
            " .     if (!mime %in% names(repr::mime2repr)) \n",
            " .         stop(\"No repr_* for mimetype \", mime, \" in repr::mime2repr\")\n",
            " .     rpr <- repr::mime2repr[[mime]](obj)\n",
            " .     if (is.null(rpr)) \n",
            " .         return(NULL)\n",
            " .     prepare_content(is.raw(rpr), rpr)\n",
            " . }, error = error_handler)\n",
            "7. repr::mime2repr[[mime]](obj)\n",
            "8. repr_markdown.data.frame(obj)\n",
            "9. repr_matrix_generic(obj, \"\\n%s\\n\\n%s%s\\n\", sprintf(\"|%%s\\n|%s|\\n\", \n",
            " .     underline), NULL, \" <!--/--> |\", \" %s |\", \"%s\", \"|%s\\n\", \n",
            " .     \" %s |\", \" %s |\", escape_fun = markdown_escape, rows = rows, \n",
            " .     cols = cols, ...)\n",
            "10. lapply(seq_len(nrow(x)), function(r) {\n",
            "  .     row <- escape_fun(slice_row(x, r))\n",
            "  .     cells <- sprintf(cell, row)\n",
            "  .     if (has_rownames) {\n",
            "  .         row_head <- sprintf(row_head, escape_fun(rownames(x)[[r]]))\n",
            "  .         cells <- c(row_head, cells)\n",
            "  .     }\n",
            "  .     sprintf(row_wrap, paste(cells, collapse = \"\"))\n",
            "  . })\n",
            "11. FUN(X[[i]], ...)\n",
            "12. escape_fun(slice_row(x, r))\n",
            "13. html_escape(values, do_spaces = FALSE)\n",
            "14. gsub(chr, html_specials[[chr]], text, fixed = TRUE)\n",
            "Warning message in FUN(X[[i]], ...):\n",
            "“input string 1 is invalid in this locale”\n",
            "Warning message in FUN(X[[i]], ...):\n",
            "“input string 1 is invalid in this locale”\n",
            "Warning message in FUN(X[[i]], ...):\n",
            "“input string 1 is invalid in this locale”\n",
            "Warning message in FUN(X[[i]], ...):\n",
            "“input string 1 is invalid in this locale”\n",
            "Warning message in FUN(X[[i]], ...):\n",
            "“input string 1 is invalid in this locale”\n",
            "Warning message in FUN(X[[i]], ...):\n",
            "“input string 1 is invalid in this locale”\n",
            "Warning message in FUN(X[[i]], ...):\n",
            "“input string 1 is invalid in this locale”\n",
            "Warning message in FUN(X[[i]], ...):\n",
            "“input string 1 is invalid in this locale”\n",
            "Warning message in FUN(X[[i]], ...):\n",
            "“input string 1 is invalid in this locale”\n",
            "Warning message in FUN(X[[i]], ...):\n",
            "“input string 1 is invalid in this locale”\n",
            "Warning message in FUN(X[[i]], ...):\n",
            "“input string 1 is invalid in this locale”\n",
            "Warning message in FUN(X[[i]], ...):\n",
            "“input string 1 is invalid in this locale”\n",
            "Warning message in FUN(X[[i]], ...):\n",
            "“input string 1 is invalid in this locale”\n",
            "Warning message in FUN(X[[i]], ...):\n",
            "“input string 1 is invalid in this locale”\n",
            "Warning message in FUN(X[[i]], ...):\n",
            "“input string 1 is invalid in this locale”\n",
            "Warning message in FUN(X[[i]], ...):\n",
            "“input string 1 is invalid in this locale”\n",
            "Warning message in FUN(X[[i]], ...):\n",
            "“input string 1 is invalid in this locale”\n",
            "Warning message in FUN(X[[i]], ...):\n",
            "“input string 1 is invalid in this locale”\n",
            "Warning message in FUN(X[[i]], ...):\n",
            "“input string 1 is invalid in this locale”\n",
            "Warning message in FUN(X[[i]], ...):\n",
            "“input string 1 is invalid in this locale”\n",
            "Warning message in FUN(X[[i]], ...):\n",
            "“input string 1 is invalid in this locale”\n",
            "Warning message in FUN(X[[i]], ...):\n",
            "“input string 1 is invalid in this locale”\n",
            "Warning message in FUN(X[[i]], ...):\n",
            "“input string 1 is invalid in this locale”\n",
            "Warning message in FUN(X[[i]], ...):\n",
            "“input string 1 is invalid in this locale”\n",
            "Warning message in FUN(X[[i]], ...):\n",
            "“input string 1 is invalid in this locale”\n",
            "Warning message in FUN(X[[i]], ...):\n",
            "“input string 1 is invalid in this locale”\n"
          ],
          "name": "stderr"
        },
        {
          "output_type": "display_data",
          "data": {
            "text/plain": [
              "   all                                                                                                                          \n",
              "1  Common|Concave branding|Customer||Done||                                                                                     \n",
              "2  Common|Invoice designer|Customer||Done||                                                                                     \n",
              "3  Retail|Shift management in offline mode|Customer||Done||                                                                     \n",
              "4  Common|Bulk barcode sticker printing|Customer||In Progress|Moved to Aug|                                                     \n",
              "5  Common|Tax Management|Customer||Not Prioritized|Moved to BL|                                                                 \n",
              "6  Common|Security testing|Internal||Done||                                                                                     \n",
              "7  Common|Seperation of dev/staging/prod envs|Internal||Done||                                                                  \n",
              "8  Common|Code Refacting to reduce complexity|Internal||In Progress||                                                           \n",
              "9  Common|Data Seeders|Internal||Not Started|Moved to Aug|                                                                      \n",
              "10 Common|Server side logging|Internal||Not Prioritized|Moved to BL|                                                            \n",
              "11 Common|Application insights integration|Internal||Not Prioritized|Moved to BL|                                               \n",
              "12 Common|Bulk Upload CLI|Internal||Not Started|Moved to Aug|                                                                   \n",
              "13 Food|Recipe Management - Inventory Integration|Customer|P1|In Progress|QA Pending|                                           \n",
              "14 Food|ODMS - CC to POS Integration|Customer|P1|In Progress|IT19, IT-20|                                                       \n",
              "15 Food|ODMS - Call Routing to Branch|Customer|P1|In Progress|IT19, IT-20|                                                      \n",
              "16 Common|Multi Branch|Customer|P3|Not Started|changed from P1 (complexity, lack of technical bandwidth)|                       \n",
              "17 Common|Bulk barcode sticker printing|Customer|P1|Done|IT19|                                                                  \n",
              "18 Common|Provision to Sell Products by <Weight> including Fractions (948)|Customer|P1|In Progress|IT20|                        \n",
              "19 Common|Weight Scale Integration|Customer|P2|Not Started||                                                                    \n",
              "20 Common|Bulk Upload CLI|Customer|P2|Not Started||                                                                             \n",
              "21 Common|Data Seeders|Internal|P2|Not Started||                                                                                \n",
              "22 Common|Product Variants|Customer|P2|Not Started|IT20, changed from P3|                                                       \n",
              "23 Food|Recipe Management - Reports|Customer|P3|Not Started|Moved to BL|                                                        \n",
              "24 Common|Webhooks for events|Customer|P4|Not Prioritized|Moved to BL|                                                          \n",
              "25 Common|Combine code bases for Food & Retail POS screens|Internal|P4|Not Prioritized|Moved to BL|                             \n",
              "26 Common|Use common grid components for Food & Retail reports|Internal|P4|Not Prioritized|Moved to BL|                         \n",
              "27 Common|Investigate migration of stack to nextJS|Internal|P4|Not Prioritized|Moved to BL|                                     \n",
              "28 Common|Explore event driven archicture for backend|Internal|P4|Not Prioritized|Moved to BL|                                  \n",
              "29 Common|Explore K8s driven deployments|Internal|P4|Not Prioritized|Moved to BL|                                               \n",
              "30 Common|Platform - Multi-offerings of POS Software|Internal|P1|Not Started|Product Team REQT|                                 \n",
              "31 Food|Recipe Management - Inventory Integration (QA)|Customer|P3|Not Prioritized|No Customer Interest|                        \n",
              "32 Common|Partial/Dynamic Search (across all feilds especially back-end)|Internal|P2|Not Started|Overall customer experience|   \n",
              "33 Common|Button Click Required, Enter button does NOT work|Internal|P2|Not Started|Overall customer experience|                \n",
              "34 Common|Misc / Service Charges (Opposite to Adjustment)|Customer|P1|Not Started|House of Lubricants|                          \n",
              "35 Common|Expiry Date|Customer|P3|Not Started|Muhammadi DuaKhana|                                                               \n",
              "36 Retail|Receipt updated to display <Amount of Money Saved>|Customer|P3|Not Started|Haji Iftikhar|                             \n",
              "37 Retail|Add to Receipt <Payable, Paid, Return Amount>\\xa0|Customer|P2|Not Started|Lok Virsa|                                  \n",
              "38 Retail|Duplicate Receipt|Customer|P2|Not Started|Lok Virsa, Rembrandts|                                                      \n",
              "39 Retail|Search filter for <Name> <Category> on Audit Screen|Customer|P3|Not Started|Rembrandts|                               \n",
              "40 Retail|Add <Unit Price> on Inventory Sreen\\xa0|Customer|P3|Not Started|Rembrandts|                                           \n",
              "41 Retail|Application Analytics|Internal|P2|Not Started|Product Team REQT|                                                      \n",
              "42 Common|Server side logging|Internal|P4|||                                                                                    \n",
              "43 Common|Application insights integration|Internal|P4|||                                                                       \n",
              "44 Food|Deal Management - Inventory Integration|Customer|P4|||                                                                  \n",
              "45 Food|Deal Management - Reports|Customer|P4|||                                                                                \n",
              "46 Common|Tax Management|Customer|P4|||                                                                                         \n",
              "47 Common|Non Saleable Item > ShikarPuri|Customer|P4|||                                                                         \n",
              "48 Common|Department > Mansehra Steel|Customer|P4|||                                                                            \n",
              "49 Common|Inventory ReOrder > Abib Mart|Customer|P4|||                                                                          \n",
              "50 Common|Gift Receipt > Rembrandts|Customer|P4|||                                                                              \n",
              "51 Common|Order Management > Rembrandts|Customer|P4|||                                                                          \n",
              "52 Common|Webhooks for events|Customer|P4|||                                                                                    \n",
              "53 Common|Combine code bases for Food & Retail POS screens|Internal|P4|||                                                       \n",
              "54 Common|Use common grid components for Food & Retail reports|Internal|P4|||                                                   \n",
              "55 Common|Investigate migration of stack to nextJS|Internal|P4|||                                                               \n",
              "56 Common|Explore event driven archicture for backend|Internal|P4|||                                                            \n",
              "57 Common|Explore K8s driven deployments|Internal|P4|||                                                                         \n",
              "58 ||||||                                                                                                                       "
            ],
            "text/latex": "A tibble: 58 × 1\n\\begin{tabular}{l}\n all\\\\\n <chr>\\\\\n\\hline\n\t Common\\textbar{}Concave branding\\textbar{}Customer\\textbar{}\\textbar{}Done\\textbar{}\\textbar{}                                                                                  \\\\\n\t Common\\textbar{}Invoice designer\\textbar{}Customer\\textbar{}\\textbar{}Done\\textbar{}\\textbar{}                                                                                  \\\\\n\t Retail\\textbar{}Shift management in offline mode\\textbar{}Customer\\textbar{}\\textbar{}Done\\textbar{}\\textbar{}                                                                  \\\\\n\t Common\\textbar{}Bulk barcode sticker printing\\textbar{}Customer\\textbar{}\\textbar{}In Progress\\textbar{}Moved to Aug\\textbar{}                                                  \\\\\n\t Common\\textbar{}Tax Management\\textbar{}Customer\\textbar{}\\textbar{}Not Prioritized\\textbar{}Moved to BL\\textbar{}                                                              \\\\\n\t Common\\textbar{}Security testing\\textbar{}Internal\\textbar{}\\textbar{}Done\\textbar{}\\textbar{}                                                                                  \\\\\n\t Common\\textbar{}Seperation of dev/staging/prod envs\\textbar{}Internal\\textbar{}\\textbar{}Done\\textbar{}\\textbar{}                                                               \\\\\n\t Common\\textbar{}Code Refacting to reduce complexity\\textbar{}Internal\\textbar{}\\textbar{}In Progress\\textbar{}\\textbar{}                                                        \\\\\n\t Common\\textbar{}Data Seeders\\textbar{}Internal\\textbar{}\\textbar{}Not Started\\textbar{}Moved to Aug\\textbar{}                                                                   \\\\\n\t Common\\textbar{}Server side logging\\textbar{}Internal\\textbar{}\\textbar{}Not Prioritized\\textbar{}Moved to BL\\textbar{}                                                         \\\\\n\t Common\\textbar{}Application insights integration\\textbar{}Internal\\textbar{}\\textbar{}Not Prioritized\\textbar{}Moved to BL\\textbar{}                                            \\\\\n\t Common\\textbar{}Bulk Upload CLI\\textbar{}Internal\\textbar{}\\textbar{}Not Started\\textbar{}Moved to Aug\\textbar{}                                                                \\\\\n\t Food\\textbar{}Recipe Management - Inventory Integration\\textbar{}Customer\\textbar{}P1\\textbar{}In Progress\\textbar{}QA Pending\\textbar{}                                        \\\\\n\t Food\\textbar{}ODMS - CC to POS Integration\\textbar{}Customer\\textbar{}P1\\textbar{}In Progress\\textbar{}IT19, IT-20\\textbar{}                                                    \\\\\n\t Food\\textbar{}ODMS - Call Routing to Branch\\textbar{}Customer\\textbar{}P1\\textbar{}In Progress\\textbar{}IT19, IT-20\\textbar{}                                                   \\\\\n\t Common\\textbar{}Multi Branch\\textbar{}Customer\\textbar{}P3\\textbar{}Not Started\\textbar{}changed from P1 (complexity, lack of technical bandwidth)\\textbar{}                    \\\\\n\t Common\\textbar{}Bulk barcode sticker printing\\textbar{}Customer\\textbar{}P1\\textbar{}Done\\textbar{}IT19\\textbar{}                                                               \\\\\n\t Common\\textbar{}Provision to Sell Products by <Weight> including Fractions (948)\\textbar{}Customer\\textbar{}P1\\textbar{}In Progress\\textbar{}IT20\\textbar{}                     \\\\\n\t Common\\textbar{}Weight Scale Integration\\textbar{}Customer\\textbar{}P2\\textbar{}Not Started\\textbar{}\\textbar{}                                                                 \\\\\n\t Common\\textbar{}Bulk Upload CLI\\textbar{}Customer\\textbar{}P2\\textbar{}Not Started\\textbar{}\\textbar{}                                                                          \\\\\n\t Common\\textbar{}Data Seeders\\textbar{}Internal\\textbar{}P2\\textbar{}Not Started\\textbar{}\\textbar{}                                                                             \\\\\n\t Common\\textbar{}Product Variants\\textbar{}Customer\\textbar{}P2\\textbar{}Not Started\\textbar{}IT20, changed from P3\\textbar{}                                                    \\\\\n\t Food\\textbar{}Recipe Management - Reports\\textbar{}Customer\\textbar{}P3\\textbar{}Not Started\\textbar{}Moved to BL\\textbar{}                                                     \\\\\n\t Common\\textbar{}Webhooks for events\\textbar{}Customer\\textbar{}P4\\textbar{}Not Prioritized\\textbar{}Moved to BL\\textbar{}                                                       \\\\\n\t Common\\textbar{}Combine code bases for Food \\& Retail POS screens\\textbar{}Internal\\textbar{}P4\\textbar{}Not Prioritized\\textbar{}Moved to BL\\textbar{}                          \\\\\n\t Common\\textbar{}Use common grid components for Food \\& Retail reports\\textbar{}Internal\\textbar{}P4\\textbar{}Not Prioritized\\textbar{}Moved to BL\\textbar{}                      \\\\\n\t Common\\textbar{}Investigate migration of stack to nextJS\\textbar{}Internal\\textbar{}P4\\textbar{}Not Prioritized\\textbar{}Moved to BL\\textbar{}                                  \\\\\n\t Common\\textbar{}Explore event driven archicture for backend\\textbar{}Internal\\textbar{}P4\\textbar{}Not Prioritized\\textbar{}Moved to BL\\textbar{}                               \\\\\n\t Common\\textbar{}Explore K8s driven deployments\\textbar{}Internal\\textbar{}P4\\textbar{}Not Prioritized\\textbar{}Moved to BL\\textbar{}                                            \\\\\n\t Common\\textbar{}Platform - Multi-offerings of POS Software\\textbar{}Internal\\textbar{}P1\\textbar{}Not Started\\textbar{}Product Team REQT\\textbar{}                              \\\\\n\t Food\\textbar{}Recipe Management - Inventory Integration (QA)\\textbar{}Customer\\textbar{}P3\\textbar{}Not Prioritized\\textbar{}No Customer Interest\\textbar{}                     \\\\\n\t Common\\textbar{}Partial/Dynamic Search (across all feilds especially back-end)\\textbar{}Internal\\textbar{}P2\\textbar{}Not Started\\textbar{}Overall customer experience\\textbar{}\\\\\n\t Common\\textbar{}Button Click Required, Enter button does NOT work\\textbar{}Internal\\textbar{}P2\\textbar{}Not Started\\textbar{}Overall customer experience\\textbar{}             \\\\\n\t Common\\textbar{}Misc / Service Charges (Opposite to Adjustment)\\textbar{}Customer\\textbar{}P1\\textbar{}Not Started\\textbar{}House of Lubricants\\textbar{}                       \\\\\n\t Common\\textbar{}Expiry Date\\textbar{}Customer\\textbar{}P3\\textbar{}Not Started\\textbar{}Muhammadi DuaKhana\\textbar{}                                                            \\\\\n\t Retail\\textbar{}Receipt updated to display <Amount of Money Saved>\\textbar{}Customer\\textbar{}P3\\textbar{}Not Started\\textbar{}Haji Iftikhar\\textbar{}                          \\\\\n\t Retail|Add to Receipt <Payable, Paid, Return Amount><a0>|Customer|P2|Not Started|Lok Virsa|                                  \\\\\n\t Retail\\textbar{}Duplicate Receipt\\textbar{}Customer\\textbar{}P2\\textbar{}Not Started\\textbar{}Lok Virsa, Rembrandts\\textbar{}                                                   \\\\\n\t Retail\\textbar{}Search filter for <Name> <Category> on Audit Screen\\textbar{}Customer\\textbar{}P3\\textbar{}Not Started\\textbar{}Rembrandts\\textbar{}                            \\\\\n\t Retail|Add <Unit Price> on Inventory Sreen<a0>|Customer|P3|Not Started|Rembrandts|                                           \\\\\n\t Retail\\textbar{}Application Analytics\\textbar{}Internal\\textbar{}P2\\textbar{}Not Started\\textbar{}Product Team REQT\\textbar{}                                                   \\\\\n\t Common\\textbar{}Server side logging\\textbar{}Internal\\textbar{}P4\\textbar{}\\textbar{}\\textbar{}                                                                                 \\\\\n\t Common\\textbar{}Application insights integration\\textbar{}Internal\\textbar{}P4\\textbar{}\\textbar{}\\textbar{}                                                                    \\\\\n\t Food\\textbar{}Deal Management - Inventory Integration\\textbar{}Customer\\textbar{}P4\\textbar{}\\textbar{}\\textbar{}                                                               \\\\\n\t Food\\textbar{}Deal Management - Reports\\textbar{}Customer\\textbar{}P4\\textbar{}\\textbar{}\\textbar{}                                                                             \\\\\n\t Common\\textbar{}Tax Management\\textbar{}Customer\\textbar{}P4\\textbar{}\\textbar{}\\textbar{}                                                                                      \\\\\n\t Common\\textbar{}Non Saleable Item > ShikarPuri\\textbar{}Customer\\textbar{}P4\\textbar{}\\textbar{}\\textbar{}                                                                      \\\\\n\t Common\\textbar{}Department > Mansehra Steel\\textbar{}Customer\\textbar{}P4\\textbar{}\\textbar{}\\textbar{}                                                                         \\\\\n\t Common\\textbar{}Inventory ReOrder > Abib Mart\\textbar{}Customer\\textbar{}P4\\textbar{}\\textbar{}\\textbar{}                                                                       \\\\\n\t Common\\textbar{}Gift Receipt > Rembrandts\\textbar{}Customer\\textbar{}P4\\textbar{}\\textbar{}\\textbar{}                                                                           \\\\\n\t Common\\textbar{}Order Management > Rembrandts\\textbar{}Customer\\textbar{}P4\\textbar{}\\textbar{}\\textbar{}                                                                       \\\\\n\t Common\\textbar{}Webhooks for events\\textbar{}Customer\\textbar{}P4\\textbar{}\\textbar{}\\textbar{}                                                                                 \\\\\n\t Common\\textbar{}Combine code bases for Food \\& Retail POS screens\\textbar{}Internal\\textbar{}P4\\textbar{}\\textbar{}\\textbar{}                                                    \\\\\n\t Common\\textbar{}Use common grid components for Food \\& Retail reports\\textbar{}Internal\\textbar{}P4\\textbar{}\\textbar{}\\textbar{}                                                \\\\\n\t Common\\textbar{}Investigate migration of stack to nextJS\\textbar{}Internal\\textbar{}P4\\textbar{}\\textbar{}\\textbar{}                                                            \\\\\n\t Common\\textbar{}Explore event driven archicture for backend\\textbar{}Internal\\textbar{}P4\\textbar{}\\textbar{}\\textbar{}                                                         \\\\\n\t Common\\textbar{}Explore K8s driven deployments\\textbar{}Internal\\textbar{}P4\\textbar{}\\textbar{}\\textbar{}                                                                      \\\\\n\t \\textbar{}\\textbar{}\\textbar{}\\textbar{}\\textbar{}\\textbar{}                                                                                                                    \\\\\n\\end{tabular}\n",
            "text/html": [
              "<table class=\"dataframe\">\n",
              "<caption>A tibble: 58 × 1</caption>\n",
              "<thead>\n",
              "\t<tr><th scope=col>all</th></tr>\n",
              "\t<tr><th scope=col>&lt;chr&gt;</th></tr>\n",
              "</thead>\n",
              "<tbody>\n",
              "\t<tr><td>Common|Concave branding|Customer||Done||                                                                                  </td></tr>\n",
              "\t<tr><td>Common|Invoice designer|Customer||Done||                                                                                  </td></tr>\n",
              "\t<tr><td>Retail|Shift management in offline mode|Customer||Done||                                                                  </td></tr>\n",
              "\t<tr><td>Common|Bulk barcode sticker printing|Customer||In Progress|Moved to Aug|                                                  </td></tr>\n",
              "\t<tr><td>Common|Tax Management|Customer||Not Prioritized|Moved to BL|                                                              </td></tr>\n",
              "\t<tr><td>Common|Security testing|Internal||Done||                                                                                  </td></tr>\n",
              "\t<tr><td>Common|Seperation of dev/staging/prod envs|Internal||Done||                                                               </td></tr>\n",
              "\t<tr><td>Common|Code Refacting to reduce complexity|Internal||In Progress||                                                        </td></tr>\n",
              "\t<tr><td>Common|Data Seeders|Internal||Not Started|Moved to Aug|                                                                   </td></tr>\n",
              "\t<tr><td>Common|Server side logging|Internal||Not Prioritized|Moved to BL|                                                         </td></tr>\n",
              "\t<tr><td>Common|Application insights integration|Internal||Not Prioritized|Moved to BL|                                            </td></tr>\n",
              "\t<tr><td>Common|Bulk Upload CLI|Internal||Not Started|Moved to Aug|                                                                </td></tr>\n",
              "\t<tr><td>Food|Recipe Management - Inventory Integration|Customer|P1|In Progress|QA Pending|                                        </td></tr>\n",
              "\t<tr><td>Food|ODMS - CC to POS Integration|Customer|P1|In Progress|IT19, IT-20|                                                    </td></tr>\n",
              "\t<tr><td>Food|ODMS - Call Routing to Branch|Customer|P1|In Progress|IT19, IT-20|                                                   </td></tr>\n",
              "\t<tr><td>Common|Multi Branch|Customer|P3|Not Started|changed from P1 (complexity, lack of technical bandwidth)|                    </td></tr>\n",
              "\t<tr><td>Common|Bulk barcode sticker printing|Customer|P1|Done|IT19|                                                               </td></tr>\n",
              "\t<tr><td><span style=white-space:pre-wrap>Common|Provision to Sell Products by &lt;Weight&gt; including Fractions (948)|Customer|P1|In Progress|IT20|                     </span></td></tr>\n",
              "\t<tr><td>Common|Weight Scale Integration|Customer|P2|Not Started||                                                                 </td></tr>\n",
              "\t<tr><td>Common|Bulk Upload CLI|Customer|P2|Not Started||                                                                          </td></tr>\n",
              "\t<tr><td>Common|Data Seeders|Internal|P2|Not Started||                                                                             </td></tr>\n",
              "\t<tr><td>Common|Product Variants|Customer|P2|Not Started|IT20, changed from P3|                                                    </td></tr>\n",
              "\t<tr><td>Food|Recipe Management - Reports|Customer|P3|Not Started|Moved to BL|                                                     </td></tr>\n",
              "\t<tr><td>Common|Webhooks for events|Customer|P4|Not Prioritized|Moved to BL|                                                       </td></tr>\n",
              "\t<tr><td><span style=white-space:pre-wrap>Common|Combine code bases for Food &amp; Retail POS screens|Internal|P4|Not Prioritized|Moved to BL|                          </span></td></tr>\n",
              "\t<tr><td><span style=white-space:pre-wrap>Common|Use common grid components for Food &amp; Retail reports|Internal|P4|Not Prioritized|Moved to BL|                      </span></td></tr>\n",
              "\t<tr><td>Common|Investigate migration of stack to nextJS|Internal|P4|Not Prioritized|Moved to BL|                                  </td></tr>\n",
              "\t<tr><td>Common|Explore event driven archicture for backend|Internal|P4|Not Prioritized|Moved to BL|                               </td></tr>\n",
              "\t<tr><td>Common|Explore K8s driven deployments|Internal|P4|Not Prioritized|Moved to BL|                                            </td></tr>\n",
              "\t<tr><td>Common|Platform - Multi-offerings of POS Software|Internal|P1|Not Started|Product Team REQT|                              </td></tr>\n",
              "\t<tr><td>Food|Recipe Management - Inventory Integration (QA)|Customer|P3|Not Prioritized|No Customer Interest|                     </td></tr>\n",
              "\t<tr><td>Common|Partial/Dynamic Search (across all feilds especially back-end)|Internal|P2|Not Started|Overall customer experience|</td></tr>\n",
              "\t<tr><td>Common|Button Click Required, Enter button does NOT work|Internal|P2|Not Started|Overall customer experience|             </td></tr>\n",
              "\t<tr><td>Common|Misc / Service Charges (Opposite to Adjustment)|Customer|P1|Not Started|House of Lubricants|                       </td></tr>\n",
              "\t<tr><td>Common|Expiry Date|Customer|P3|Not Started|Muhammadi DuaKhana|                                                            </td></tr>\n",
              "\t<tr><td><span style=white-space:pre-wrap>Retail|Receipt updated to display &lt;Amount of Money Saved&gt;|Customer|P3|Not Started|Haji Iftikhar|                          </span></td></tr>\n",
              "\t<tr><td>Retail|Add to Receipt <Payable, Paid, Return Amount><a0>|Customer|P2|Not Started|Lok Virsa|                                  </td></tr>\n",
              "\t<tr><td>Retail|Duplicate Receipt|Customer|P2|Not Started|Lok Virsa, Rembrandts|                                                   </td></tr>\n",
              "\t<tr><td><span style=white-space:pre-wrap>Retail|Search filter for &lt;Name&gt; &lt;Category&gt; on Audit Screen|Customer|P3|Not Started|Rembrandts|                            </span></td></tr>\n",
              "\t<tr><td>Retail|Add <Unit Price> on Inventory Sreen<a0>|Customer|P3|Not Started|Rembrandts|                                           </td></tr>\n",
              "\t<tr><td>Retail|Application Analytics|Internal|P2|Not Started|Product Team REQT|                                                   </td></tr>\n",
              "\t<tr><td>Common|Server side logging|Internal|P4|||                                                                                 </td></tr>\n",
              "\t<tr><td>Common|Application insights integration|Internal|P4|||                                                                    </td></tr>\n",
              "\t<tr><td>Food|Deal Management - Inventory Integration|Customer|P4|||                                                               </td></tr>\n",
              "\t<tr><td>Food|Deal Management - Reports|Customer|P4|||                                                                             </td></tr>\n",
              "\t<tr><td>Common|Tax Management|Customer|P4|||                                                                                      </td></tr>\n",
              "\t<tr><td><span style=white-space:pre-wrap>Common|Non Saleable Item &gt; ShikarPuri|Customer|P4|||                                                                      </span></td></tr>\n",
              "\t<tr><td><span style=white-space:pre-wrap>Common|Department &gt; Mansehra Steel|Customer|P4|||                                                                         </span></td></tr>\n",
              "\t<tr><td><span style=white-space:pre-wrap>Common|Inventory ReOrder &gt; Abib Mart|Customer|P4|||                                                                       </span></td></tr>\n",
              "\t<tr><td><span style=white-space:pre-wrap>Common|Gift Receipt &gt; Rembrandts|Customer|P4|||                                                                           </span></td></tr>\n",
              "\t<tr><td><span style=white-space:pre-wrap>Common|Order Management &gt; Rembrandts|Customer|P4|||                                                                       </span></td></tr>\n",
              "\t<tr><td>Common|Webhooks for events|Customer|P4|||                                                                                 </td></tr>\n",
              "\t<tr><td><span style=white-space:pre-wrap>Common|Combine code bases for Food &amp; Retail POS screens|Internal|P4|||                                                    </span></td></tr>\n",
              "\t<tr><td><span style=white-space:pre-wrap>Common|Use common grid components for Food &amp; Retail reports|Internal|P4|||                                                </span></td></tr>\n",
              "\t<tr><td>Common|Investigate migration of stack to nextJS|Internal|P4|||                                                            </td></tr>\n",
              "\t<tr><td>Common|Explore event driven archicture for backend|Internal|P4|||                                                         </td></tr>\n",
              "\t<tr><td>Common|Explore K8s driven deployments|Internal|P4|||                                                                      </td></tr>\n",
              "\t<tr><td>||||||                                                                                                                    </td></tr>\n",
              "</tbody>\n",
              "</table>\n"
            ]
          },
          "metadata": {}
        }
      ]
    },
    {
      "cell_type": "code",
      "metadata": {
        "id": "OHmb4FKbKeYs"
      },
      "source": [
        "# add dummy col\n",
        "# R add column before another column\n",
        "df_4 <- df_3 %>%\n",
        "  add_column(X1 = '',\n",
        "  .before = \"X2\")"
      ],
      "execution_count": 27,
      "outputs": []
    },
    {
      "cell_type": "code",
      "metadata": {
        "colab": {
          "base_uri": "https://localhost:8080/",
          "height": 282
        },
        "id": "uoCtNPLULVAN",
        "outputId": "fdd908a7-8c97-4f70-fa62-ac0755e28564"
      },
      "source": [
        "head(df_4)"
      ],
      "execution_count": 28,
      "outputs": [
        {
          "output_type": "display_data",
          "data": {
            "text/plain": [
              "  X1 X2     X3                               X4       X5 X6             \n",
              "1    Common Concave branding                 Customer    Done           \n",
              "2    Common Invoice designer                 Customer    Done           \n",
              "3    Retail Shift management in offline mode Customer    Done           \n",
              "4    Common Bulk barcode sticker printing    Customer    In Progress    \n",
              "5    Common Tax Management                   Customer    Not Prioritized\n",
              "6    Common Security testing                 Internal    Done           \n",
              "  X7           X8\n",
              "1                \n",
              "2                \n",
              "3                \n",
              "4 Moved to Aug   \n",
              "5 Moved to BL    \n",
              "6                "
            ],
            "text/latex": "A tibble: 6 × 8\n\\begin{tabular}{llllllll}\n X1 & X2 & X3 & X4 & X5 & X6 & X7 & X8\\\\\n <chr> & <chr> & <chr> & <chr> & <chr> & <chr> & <chr> & <chr>\\\\\n\\hline\n\t  & Common & Concave branding                 & Customer &  & Done            &              & \\\\\n\t  & Common & Invoice designer                 & Customer &  & Done            &              & \\\\\n\t  & Retail & Shift management in offline mode & Customer &  & Done            &              & \\\\\n\t  & Common & Bulk barcode sticker printing    & Customer &  & In Progress     & Moved to Aug & \\\\\n\t  & Common & Tax Management                   & Customer &  & Not Prioritized & Moved to BL  & \\\\\n\t  & Common & Security testing                 & Internal &  & Done            &              & \\\\\n\\end{tabular}\n",
            "text/markdown": "\nA tibble: 6 × 8\n\n| X1 &lt;chr&gt; | X2 &lt;chr&gt; | X3 &lt;chr&gt; | X4 &lt;chr&gt; | X5 &lt;chr&gt; | X6 &lt;chr&gt; | X7 &lt;chr&gt; | X8 &lt;chr&gt; |\n|---|---|---|---|---|---|---|---|\n| <!----> | Common | Concave branding                 | Customer | <!----> | Done            | <!----> | <!----> |\n| <!----> | Common | Invoice designer                 | Customer | <!----> | Done            | <!----> | <!----> |\n| <!----> | Retail | Shift management in offline mode | Customer | <!----> | Done            | <!----> | <!----> |\n| <!----> | Common | Bulk barcode sticker printing    | Customer | <!----> | In Progress     | Moved to Aug | <!----> |\n| <!----> | Common | Tax Management                   | Customer | <!----> | Not Prioritized | Moved to BL  | <!----> |\n| <!----> | Common | Security testing                 | Internal | <!----> | Done            | <!----> | <!----> |\n\n",
            "text/html": [
              "<table class=\"dataframe\">\n",
              "<caption>A tibble: 6 × 8</caption>\n",
              "<thead>\n",
              "\t<tr><th scope=col>X1</th><th scope=col>X2</th><th scope=col>X3</th><th scope=col>X4</th><th scope=col>X5</th><th scope=col>X6</th><th scope=col>X7</th><th scope=col>X8</th></tr>\n",
              "\t<tr><th scope=col>&lt;chr&gt;</th><th scope=col>&lt;chr&gt;</th><th scope=col>&lt;chr&gt;</th><th scope=col>&lt;chr&gt;</th><th scope=col>&lt;chr&gt;</th><th scope=col>&lt;chr&gt;</th><th scope=col>&lt;chr&gt;</th><th scope=col>&lt;chr&gt;</th></tr>\n",
              "</thead>\n",
              "<tbody>\n",
              "\t<tr><td></td><td>Common</td><td>Concave branding                </td><td>Customer</td><td></td><td>Done           </td><td>            </td><td></td></tr>\n",
              "\t<tr><td></td><td>Common</td><td>Invoice designer                </td><td>Customer</td><td></td><td>Done           </td><td>            </td><td></td></tr>\n",
              "\t<tr><td></td><td>Retail</td><td>Shift management in offline mode</td><td>Customer</td><td></td><td>Done           </td><td>            </td><td></td></tr>\n",
              "\t<tr><td></td><td>Common</td><td>Bulk barcode sticker printing   </td><td>Customer</td><td></td><td>In Progress    </td><td>Moved to Aug</td><td></td></tr>\n",
              "\t<tr><td></td><td>Common</td><td>Tax Management                  </td><td>Customer</td><td></td><td>Not Prioritized</td><td>Moved to BL </td><td></td></tr>\n",
              "\t<tr><td></td><td>Common</td><td>Security testing                </td><td>Internal</td><td></td><td>Done           </td><td>            </td><td></td></tr>\n",
              "</tbody>\n",
              "</table>\n"
            ]
          },
          "metadata": {}
        }
      ]
    },
    {
      "cell_type": "code",
      "metadata": {
        "id": "Q5s6jgN2Lknb"
      },
      "source": [
        "df_5 <- df_4 %>%\n",
        "  add_column(X0 = '',\n",
        "  .before = \"X1\")"
      ],
      "execution_count": 29,
      "outputs": []
    },
    {
      "cell_type": "code",
      "metadata": {
        "colab": {
          "base_uri": "https://localhost:8080/",
          "height": 159
        },
        "id": "-5k-Ai8TMCtj",
        "outputId": "a61982ee-43c8-49de-c7ee-67909c09cd96"
      },
      "source": [
        "head(df_5,2)"
      ],
      "execution_count": 30,
      "outputs": [
        {
          "output_type": "display_data",
          "data": {
            "text/plain": [
              "  X0 X1 X2     X3               X4       X5 X6   X7 X8\n",
              "1       Common Concave branding Customer    Done      \n",
              "2       Common Invoice designer Customer    Done      "
            ],
            "text/latex": "A tibble: 2 × 9\n\\begin{tabular}{lllllllll}\n X0 & X1 & X2 & X3 & X4 & X5 & X6 & X7 & X8\\\\\n <chr> & <chr> & <chr> & <chr> & <chr> & <chr> & <chr> & <chr> & <chr>\\\\\n\\hline\n\t  &  & Common & Concave branding & Customer &  & Done &  & \\\\\n\t  &  & Common & Invoice designer & Customer &  & Done &  & \\\\\n\\end{tabular}\n",
            "text/markdown": "\nA tibble: 2 × 9\n\n| X0 &lt;chr&gt; | X1 &lt;chr&gt; | X2 &lt;chr&gt; | X3 &lt;chr&gt; | X4 &lt;chr&gt; | X5 &lt;chr&gt; | X6 &lt;chr&gt; | X7 &lt;chr&gt; | X8 &lt;chr&gt; |\n|---|---|---|---|---|---|---|---|---|\n| <!----> | <!----> | Common | Concave branding | Customer | <!----> | Done | <!----> | <!----> |\n| <!----> | <!----> | Common | Invoice designer | Customer | <!----> | Done | <!----> | <!----> |\n\n",
            "text/html": [
              "<table class=\"dataframe\">\n",
              "<caption>A tibble: 2 × 9</caption>\n",
              "<thead>\n",
              "\t<tr><th scope=col>X0</th><th scope=col>X1</th><th scope=col>X2</th><th scope=col>X3</th><th scope=col>X4</th><th scope=col>X5</th><th scope=col>X6</th><th scope=col>X7</th><th scope=col>X8</th></tr>\n",
              "\t<tr><th scope=col>&lt;chr&gt;</th><th scope=col>&lt;chr&gt;</th><th scope=col>&lt;chr&gt;</th><th scope=col>&lt;chr&gt;</th><th scope=col>&lt;chr&gt;</th><th scope=col>&lt;chr&gt;</th><th scope=col>&lt;chr&gt;</th><th scope=col>&lt;chr&gt;</th><th scope=col>&lt;chr&gt;</th></tr>\n",
              "</thead>\n",
              "<tbody>\n",
              "\t<tr><td></td><td></td><td>Common</td><td>Concave branding</td><td>Customer</td><td></td><td>Done</td><td></td><td></td></tr>\n",
              "\t<tr><td></td><td></td><td>Common</td><td>Invoice designer</td><td>Customer</td><td></td><td>Done</td><td></td><td></td></tr>\n",
              "</tbody>\n",
              "</table>\n"
            ]
          },
          "metadata": {}
        }
      ]
    },
    {
      "cell_type": "code",
      "metadata": {
        "colab": {
          "base_uri": "https://localhost:8080/",
          "height": 1000
        },
        "id": "fRSTVqYWMHQ3",
        "outputId": "1ca68a85-8eb3-4783-9bbc-8c229ff57372"
      },
      "source": [
        "df_5 %>%\n",
        "unite(\"all\", sep='|', na.rm = TRUE, remove = TRUE)"
      ],
      "execution_count": 32,
      "outputs": [
        {
          "output_type": "stream",
          "text": [
            "Warning message in FUN(X[[i]], ...):\n",
            "“input string 1 is invalid in this locale”\n",
            "Warning message in FUN(X[[i]], ...):\n",
            "“input string 1 is invalid in this locale”\n",
            "Warning message in FUN(X[[i]], ...):\n",
            "“input string 1 is invalid in this locale”\n",
            "Warning message in FUN(X[[i]], ...):\n",
            "“input string 1 is invalid in this locale”\n",
            "Warning message in FUN(X[[i]], ...):\n",
            "“input string 1 is invalid in this locale”\n",
            "Warning message in FUN(X[[i]], ...):\n",
            "“input string 1 is invalid in this locale”\n",
            "ERROR while rich displaying an object: Error in gsub(chr, html_specials[[chr]], text, fixed = TRUE): input string 1 is invalid in this locale\n",
            "\n",
            "Traceback:\n",
            "1. FUN(X[[i]], ...)\n",
            "2. tryCatch(withCallingHandlers({\n",
            " .     if (!mime %in% names(repr::mime2repr)) \n",
            " .         stop(\"No repr_* for mimetype \", mime, \" in repr::mime2repr\")\n",
            " .     rpr <- repr::mime2repr[[mime]](obj)\n",
            " .     if (is.null(rpr)) \n",
            " .         return(NULL)\n",
            " .     prepare_content(is.raw(rpr), rpr)\n",
            " . }, error = error_handler), error = outer_handler)\n",
            "3. tryCatchList(expr, classes, parentenv, handlers)\n",
            "4. tryCatchOne(expr, names, parentenv, handlers[[1L]])\n",
            "5. doTryCatch(return(expr), name, parentenv, handler)\n",
            "6. withCallingHandlers({\n",
            " .     if (!mime %in% names(repr::mime2repr)) \n",
            " .         stop(\"No repr_* for mimetype \", mime, \" in repr::mime2repr\")\n",
            " .     rpr <- repr::mime2repr[[mime]](obj)\n",
            " .     if (is.null(rpr)) \n",
            " .         return(NULL)\n",
            " .     prepare_content(is.raw(rpr), rpr)\n",
            " . }, error = error_handler)\n",
            "7. repr::mime2repr[[mime]](obj)\n",
            "8. repr_markdown.data.frame(obj)\n",
            "9. repr_matrix_generic(obj, \"\\n%s\\n\\n%s%s\\n\", sprintf(\"|%%s\\n|%s|\\n\", \n",
            " .     underline), NULL, \" <!--/--> |\", \" %s |\", \"%s\", \"|%s\\n\", \n",
            " .     \" %s |\", \" %s |\", escape_fun = markdown_escape, rows = rows, \n",
            " .     cols = cols, ...)\n",
            "10. lapply(seq_len(nrow(x)), function(r) {\n",
            "  .     row <- escape_fun(slice_row(x, r))\n",
            "  .     cells <- sprintf(cell, row)\n",
            "  .     if (has_rownames) {\n",
            "  .         row_head <- sprintf(row_head, escape_fun(rownames(x)[[r]]))\n",
            "  .         cells <- c(row_head, cells)\n",
            "  .     }\n",
            "  .     sprintf(row_wrap, paste(cells, collapse = \"\"))\n",
            "  . })\n",
            "11. FUN(X[[i]], ...)\n",
            "12. escape_fun(slice_row(x, r))\n",
            "13. html_escape(values, do_spaces = FALSE)\n",
            "14. gsub(chr, html_specials[[chr]], text, fixed = TRUE)\n",
            "Warning message in FUN(X[[i]], ...):\n",
            "“input string 1 is invalid in this locale”\n",
            "Warning message in FUN(X[[i]], ...):\n",
            "“input string 1 is invalid in this locale”\n",
            "Warning message in FUN(X[[i]], ...):\n",
            "“input string 1 is invalid in this locale”\n",
            "Warning message in FUN(X[[i]], ...):\n",
            "“input string 1 is invalid in this locale”\n",
            "Warning message in FUN(X[[i]], ...):\n",
            "“input string 1 is invalid in this locale”\n",
            "Warning message in FUN(X[[i]], ...):\n",
            "“input string 1 is invalid in this locale”\n",
            "Warning message in FUN(X[[i]], ...):\n",
            "“input string 1 is invalid in this locale”\n",
            "Warning message in FUN(X[[i]], ...):\n",
            "“input string 1 is invalid in this locale”\n",
            "Warning message in FUN(X[[i]], ...):\n",
            "“input string 1 is invalid in this locale”\n",
            "Warning message in FUN(X[[i]], ...):\n",
            "“input string 1 is invalid in this locale”\n",
            "Warning message in FUN(X[[i]], ...):\n",
            "“input string 1 is invalid in this locale”\n",
            "Warning message in FUN(X[[i]], ...):\n",
            "“input string 1 is invalid in this locale”\n",
            "Warning message in FUN(X[[i]], ...):\n",
            "“input string 1 is invalid in this locale”\n",
            "Warning message in FUN(X[[i]], ...):\n",
            "“input string 1 is invalid in this locale”\n",
            "Warning message in FUN(X[[i]], ...):\n",
            "“input string 1 is invalid in this locale”\n",
            "Warning message in FUN(X[[i]], ...):\n",
            "“input string 1 is invalid in this locale”\n",
            "Warning message in FUN(X[[i]], ...):\n",
            "“input string 1 is invalid in this locale”\n",
            "Warning message in FUN(X[[i]], ...):\n",
            "“input string 1 is invalid in this locale”\n",
            "Warning message in FUN(X[[i]], ...):\n",
            "“input string 1 is invalid in this locale”\n",
            "Warning message in FUN(X[[i]], ...):\n",
            "“input string 1 is invalid in this locale”\n",
            "Warning message in FUN(X[[i]], ...):\n",
            "“input string 1 is invalid in this locale”\n",
            "Warning message in FUN(X[[i]], ...):\n",
            "“input string 1 is invalid in this locale”\n",
            "Warning message in FUN(X[[i]], ...):\n",
            "“input string 1 is invalid in this locale”\n",
            "Warning message in FUN(X[[i]], ...):\n",
            "“input string 1 is invalid in this locale”\n",
            "Warning message in FUN(X[[i]], ...):\n",
            "“input string 1 is invalid in this locale”\n",
            "Warning message in FUN(X[[i]], ...):\n",
            "“input string 1 is invalid in this locale”\n"
          ],
          "name": "stderr"
        },
        {
          "output_type": "display_data",
          "data": {
            "text/plain": [
              "   all                                                                                                                            \n",
              "1  ||Common|Concave branding|Customer||Done||                                                                                     \n",
              "2  ||Common|Invoice designer|Customer||Done||                                                                                     \n",
              "3  ||Retail|Shift management in offline mode|Customer||Done||                                                                     \n",
              "4  ||Common|Bulk barcode sticker printing|Customer||In Progress|Moved to Aug|                                                     \n",
              "5  ||Common|Tax Management|Customer||Not Prioritized|Moved to BL|                                                                 \n",
              "6  ||Common|Security testing|Internal||Done||                                                                                     \n",
              "7  ||Common|Seperation of dev/staging/prod envs|Internal||Done||                                                                  \n",
              "8  ||Common|Code Refacting to reduce complexity|Internal||In Progress||                                                           \n",
              "9  ||Common|Data Seeders|Internal||Not Started|Moved to Aug|                                                                      \n",
              "10 ||Common|Server side logging|Internal||Not Prioritized|Moved to BL|                                                            \n",
              "11 ||Common|Application insights integration|Internal||Not Prioritized|Moved to BL|                                               \n",
              "12 ||Common|Bulk Upload CLI|Internal||Not Started|Moved to Aug|                                                                   \n",
              "13 ||Food|Recipe Management - Inventory Integration|Customer|P1|In Progress|QA Pending|                                           \n",
              "14 ||Food|ODMS - CC to POS Integration|Customer|P1|In Progress|IT19, IT-20|                                                       \n",
              "15 ||Food|ODMS - Call Routing to Branch|Customer|P1|In Progress|IT19, IT-20|                                                      \n",
              "16 ||Common|Multi Branch|Customer|P3|Not Started|changed from P1 (complexity, lack of technical bandwidth)|                       \n",
              "17 ||Common|Bulk barcode sticker printing|Customer|P1|Done|IT19|                                                                  \n",
              "18 ||Common|Provision to Sell Products by <Weight> including Fractions (948)|Customer|P1|In Progress|IT20|                        \n",
              "19 ||Common|Weight Scale Integration|Customer|P2|Not Started||                                                                    \n",
              "20 ||Common|Bulk Upload CLI|Customer|P2|Not Started||                                                                             \n",
              "21 ||Common|Data Seeders|Internal|P2|Not Started||                                                                                \n",
              "22 ||Common|Product Variants|Customer|P2|Not Started|IT20, changed from P3|                                                       \n",
              "23 ||Food|Recipe Management - Reports|Customer|P3|Not Started|Moved to BL|                                                        \n",
              "24 ||Common|Webhooks for events|Customer|P4|Not Prioritized|Moved to BL|                                                          \n",
              "25 ||Common|Combine code bases for Food & Retail POS screens|Internal|P4|Not Prioritized|Moved to BL|                             \n",
              "26 ||Common|Use common grid components for Food & Retail reports|Internal|P4|Not Prioritized|Moved to BL|                         \n",
              "27 ||Common|Investigate migration of stack to nextJS|Internal|P4|Not Prioritized|Moved to BL|                                     \n",
              "28 ||Common|Explore event driven archicture for backend|Internal|P4|Not Prioritized|Moved to BL|                                  \n",
              "29 ||Common|Explore K8s driven deployments|Internal|P4|Not Prioritized|Moved to BL|                                               \n",
              "30 ||Common|Platform - Multi-offerings of POS Software|Internal|P1|Not Started|Product Team REQT|                                 \n",
              "31 ||Food|Recipe Management - Inventory Integration (QA)|Customer|P3|Not Prioritized|No Customer Interest|                        \n",
              "32 ||Common|Partial/Dynamic Search (across all feilds especially back-end)|Internal|P2|Not Started|Overall customer experience|   \n",
              "33 ||Common|Button Click Required, Enter button does NOT work|Internal|P2|Not Started|Overall customer experience|                \n",
              "34 ||Common|Misc / Service Charges (Opposite to Adjustment)|Customer|P1|Not Started|House of Lubricants|                          \n",
              "35 ||Common|Expiry Date|Customer|P3|Not Started|Muhammadi DuaKhana|                                                               \n",
              "36 ||Retail|Receipt updated to display <Amount of Money Saved>|Customer|P3|Not Started|Haji Iftikhar|                             \n",
              "37 ||Retail|Add to Receipt <Payable, Paid, Return Amount>\\xa0|Customer|P2|Not Started|Lok Virsa|                                  \n",
              "38 ||Retail|Duplicate Receipt|Customer|P2|Not Started|Lok Virsa, Rembrandts|                                                      \n",
              "39 ||Retail|Search filter for <Name> <Category> on Audit Screen|Customer|P3|Not Started|Rembrandts|                               \n",
              "40 ||Retail|Add <Unit Price> on Inventory Sreen\\xa0|Customer|P3|Not Started|Rembrandts|                                           \n",
              "41 ||Retail|Application Analytics|Internal|P2|Not Started|Product Team REQT|                                                      \n",
              "42 ||Common|Server side logging|Internal|P4|||                                                                                    \n",
              "43 ||Common|Application insights integration|Internal|P4|||                                                                       \n",
              "44 ||Food|Deal Management - Inventory Integration|Customer|P4|||                                                                  \n",
              "45 ||Food|Deal Management - Reports|Customer|P4|||                                                                                \n",
              "46 ||Common|Tax Management|Customer|P4|||                                                                                         \n",
              "47 ||Common|Non Saleable Item > ShikarPuri|Customer|P4|||                                                                         \n",
              "48 ||Common|Department > Mansehra Steel|Customer|P4|||                                                                            \n",
              "49 ||Common|Inventory ReOrder > Abib Mart|Customer|P4|||                                                                          \n",
              "50 ||Common|Gift Receipt > Rembrandts|Customer|P4|||                                                                              \n",
              "51 ||Common|Order Management > Rembrandts|Customer|P4|||                                                                          \n",
              "52 ||Common|Webhooks for events|Customer|P4|||                                                                                    \n",
              "53 ||Common|Combine code bases for Food & Retail POS screens|Internal|P4|||                                                       \n",
              "54 ||Common|Use common grid components for Food & Retail reports|Internal|P4|||                                                   \n",
              "55 ||Common|Investigate migration of stack to nextJS|Internal|P4|||                                                               \n",
              "56 ||Common|Explore event driven archicture for backend|Internal|P4|||                                                            \n",
              "57 ||Common|Explore K8s driven deployments|Internal|P4|||                                                                         \n",
              "58 ||||||||                                                                                                                       "
            ],
            "text/latex": "A tibble: 58 × 1\n\\begin{tabular}{l}\n all\\\\\n <chr>\\\\\n\\hline\n\t \\textbar{}\\textbar{}Common\\textbar{}Concave branding\\textbar{}Customer\\textbar{}\\textbar{}Done\\textbar{}\\textbar{}                                                                                  \\\\\n\t \\textbar{}\\textbar{}Common\\textbar{}Invoice designer\\textbar{}Customer\\textbar{}\\textbar{}Done\\textbar{}\\textbar{}                                                                                  \\\\\n\t \\textbar{}\\textbar{}Retail\\textbar{}Shift management in offline mode\\textbar{}Customer\\textbar{}\\textbar{}Done\\textbar{}\\textbar{}                                                                  \\\\\n\t \\textbar{}\\textbar{}Common\\textbar{}Bulk barcode sticker printing\\textbar{}Customer\\textbar{}\\textbar{}In Progress\\textbar{}Moved to Aug\\textbar{}                                                  \\\\\n\t \\textbar{}\\textbar{}Common\\textbar{}Tax Management\\textbar{}Customer\\textbar{}\\textbar{}Not Prioritized\\textbar{}Moved to BL\\textbar{}                                                              \\\\\n\t \\textbar{}\\textbar{}Common\\textbar{}Security testing\\textbar{}Internal\\textbar{}\\textbar{}Done\\textbar{}\\textbar{}                                                                                  \\\\\n\t \\textbar{}\\textbar{}Common\\textbar{}Seperation of dev/staging/prod envs\\textbar{}Internal\\textbar{}\\textbar{}Done\\textbar{}\\textbar{}                                                               \\\\\n\t \\textbar{}\\textbar{}Common\\textbar{}Code Refacting to reduce complexity\\textbar{}Internal\\textbar{}\\textbar{}In Progress\\textbar{}\\textbar{}                                                        \\\\\n\t \\textbar{}\\textbar{}Common\\textbar{}Data Seeders\\textbar{}Internal\\textbar{}\\textbar{}Not Started\\textbar{}Moved to Aug\\textbar{}                                                                   \\\\\n\t \\textbar{}\\textbar{}Common\\textbar{}Server side logging\\textbar{}Internal\\textbar{}\\textbar{}Not Prioritized\\textbar{}Moved to BL\\textbar{}                                                         \\\\\n\t \\textbar{}\\textbar{}Common\\textbar{}Application insights integration\\textbar{}Internal\\textbar{}\\textbar{}Not Prioritized\\textbar{}Moved to BL\\textbar{}                                            \\\\\n\t \\textbar{}\\textbar{}Common\\textbar{}Bulk Upload CLI\\textbar{}Internal\\textbar{}\\textbar{}Not Started\\textbar{}Moved to Aug\\textbar{}                                                                \\\\\n\t \\textbar{}\\textbar{}Food\\textbar{}Recipe Management - Inventory Integration\\textbar{}Customer\\textbar{}P1\\textbar{}In Progress\\textbar{}QA Pending\\textbar{}                                        \\\\\n\t \\textbar{}\\textbar{}Food\\textbar{}ODMS - CC to POS Integration\\textbar{}Customer\\textbar{}P1\\textbar{}In Progress\\textbar{}IT19, IT-20\\textbar{}                                                    \\\\\n\t \\textbar{}\\textbar{}Food\\textbar{}ODMS - Call Routing to Branch\\textbar{}Customer\\textbar{}P1\\textbar{}In Progress\\textbar{}IT19, IT-20\\textbar{}                                                   \\\\\n\t \\textbar{}\\textbar{}Common\\textbar{}Multi Branch\\textbar{}Customer\\textbar{}P3\\textbar{}Not Started\\textbar{}changed from P1 (complexity, lack of technical bandwidth)\\textbar{}                    \\\\\n\t \\textbar{}\\textbar{}Common\\textbar{}Bulk barcode sticker printing\\textbar{}Customer\\textbar{}P1\\textbar{}Done\\textbar{}IT19\\textbar{}                                                               \\\\\n\t \\textbar{}\\textbar{}Common\\textbar{}Provision to Sell Products by <Weight> including Fractions (948)\\textbar{}Customer\\textbar{}P1\\textbar{}In Progress\\textbar{}IT20\\textbar{}                     \\\\\n\t \\textbar{}\\textbar{}Common\\textbar{}Weight Scale Integration\\textbar{}Customer\\textbar{}P2\\textbar{}Not Started\\textbar{}\\textbar{}                                                                 \\\\\n\t \\textbar{}\\textbar{}Common\\textbar{}Bulk Upload CLI\\textbar{}Customer\\textbar{}P2\\textbar{}Not Started\\textbar{}\\textbar{}                                                                          \\\\\n\t \\textbar{}\\textbar{}Common\\textbar{}Data Seeders\\textbar{}Internal\\textbar{}P2\\textbar{}Not Started\\textbar{}\\textbar{}                                                                             \\\\\n\t \\textbar{}\\textbar{}Common\\textbar{}Product Variants\\textbar{}Customer\\textbar{}P2\\textbar{}Not Started\\textbar{}IT20, changed from P3\\textbar{}                                                    \\\\\n\t \\textbar{}\\textbar{}Food\\textbar{}Recipe Management - Reports\\textbar{}Customer\\textbar{}P3\\textbar{}Not Started\\textbar{}Moved to BL\\textbar{}                                                     \\\\\n\t \\textbar{}\\textbar{}Common\\textbar{}Webhooks for events\\textbar{}Customer\\textbar{}P4\\textbar{}Not Prioritized\\textbar{}Moved to BL\\textbar{}                                                       \\\\\n\t \\textbar{}\\textbar{}Common\\textbar{}Combine code bases for Food \\& Retail POS screens\\textbar{}Internal\\textbar{}P4\\textbar{}Not Prioritized\\textbar{}Moved to BL\\textbar{}                          \\\\\n\t \\textbar{}\\textbar{}Common\\textbar{}Use common grid components for Food \\& Retail reports\\textbar{}Internal\\textbar{}P4\\textbar{}Not Prioritized\\textbar{}Moved to BL\\textbar{}                      \\\\\n\t \\textbar{}\\textbar{}Common\\textbar{}Investigate migration of stack to nextJS\\textbar{}Internal\\textbar{}P4\\textbar{}Not Prioritized\\textbar{}Moved to BL\\textbar{}                                  \\\\\n\t \\textbar{}\\textbar{}Common\\textbar{}Explore event driven archicture for backend\\textbar{}Internal\\textbar{}P4\\textbar{}Not Prioritized\\textbar{}Moved to BL\\textbar{}                               \\\\\n\t \\textbar{}\\textbar{}Common\\textbar{}Explore K8s driven deployments\\textbar{}Internal\\textbar{}P4\\textbar{}Not Prioritized\\textbar{}Moved to BL\\textbar{}                                            \\\\\n\t \\textbar{}\\textbar{}Common\\textbar{}Platform - Multi-offerings of POS Software\\textbar{}Internal\\textbar{}P1\\textbar{}Not Started\\textbar{}Product Team REQT\\textbar{}                              \\\\\n\t \\textbar{}\\textbar{}Food\\textbar{}Recipe Management - Inventory Integration (QA)\\textbar{}Customer\\textbar{}P3\\textbar{}Not Prioritized\\textbar{}No Customer Interest\\textbar{}                     \\\\\n\t \\textbar{}\\textbar{}Common\\textbar{}Partial/Dynamic Search (across all feilds especially back-end)\\textbar{}Internal\\textbar{}P2\\textbar{}Not Started\\textbar{}Overall customer experience\\textbar{}\\\\\n\t \\textbar{}\\textbar{}Common\\textbar{}Button Click Required, Enter button does NOT work\\textbar{}Internal\\textbar{}P2\\textbar{}Not Started\\textbar{}Overall customer experience\\textbar{}             \\\\\n\t \\textbar{}\\textbar{}Common\\textbar{}Misc / Service Charges (Opposite to Adjustment)\\textbar{}Customer\\textbar{}P1\\textbar{}Not Started\\textbar{}House of Lubricants\\textbar{}                       \\\\\n\t \\textbar{}\\textbar{}Common\\textbar{}Expiry Date\\textbar{}Customer\\textbar{}P3\\textbar{}Not Started\\textbar{}Muhammadi DuaKhana\\textbar{}                                                            \\\\\n\t \\textbar{}\\textbar{}Retail\\textbar{}Receipt updated to display <Amount of Money Saved>\\textbar{}Customer\\textbar{}P3\\textbar{}Not Started\\textbar{}Haji Iftikhar\\textbar{}                          \\\\\n\t ||Retail|Add to Receipt <Payable, Paid, Return Amount><a0>|Customer|P2|Not Started|Lok Virsa|                                  \\\\\n\t \\textbar{}\\textbar{}Retail\\textbar{}Duplicate Receipt\\textbar{}Customer\\textbar{}P2\\textbar{}Not Started\\textbar{}Lok Virsa, Rembrandts\\textbar{}                                                   \\\\\n\t \\textbar{}\\textbar{}Retail\\textbar{}Search filter for <Name> <Category> on Audit Screen\\textbar{}Customer\\textbar{}P3\\textbar{}Not Started\\textbar{}Rembrandts\\textbar{}                            \\\\\n\t ||Retail|Add <Unit Price> on Inventory Sreen<a0>|Customer|P3|Not Started|Rembrandts|                                           \\\\\n\t \\textbar{}\\textbar{}Retail\\textbar{}Application Analytics\\textbar{}Internal\\textbar{}P2\\textbar{}Not Started\\textbar{}Product Team REQT\\textbar{}                                                   \\\\\n\t \\textbar{}\\textbar{}Common\\textbar{}Server side logging\\textbar{}Internal\\textbar{}P4\\textbar{}\\textbar{}\\textbar{}                                                                                 \\\\\n\t \\textbar{}\\textbar{}Common\\textbar{}Application insights integration\\textbar{}Internal\\textbar{}P4\\textbar{}\\textbar{}\\textbar{}                                                                    \\\\\n\t \\textbar{}\\textbar{}Food\\textbar{}Deal Management - Inventory Integration\\textbar{}Customer\\textbar{}P4\\textbar{}\\textbar{}\\textbar{}                                                               \\\\\n\t \\textbar{}\\textbar{}Food\\textbar{}Deal Management - Reports\\textbar{}Customer\\textbar{}P4\\textbar{}\\textbar{}\\textbar{}                                                                             \\\\\n\t \\textbar{}\\textbar{}Common\\textbar{}Tax Management\\textbar{}Customer\\textbar{}P4\\textbar{}\\textbar{}\\textbar{}                                                                                      \\\\\n\t \\textbar{}\\textbar{}Common\\textbar{}Non Saleable Item > ShikarPuri\\textbar{}Customer\\textbar{}P4\\textbar{}\\textbar{}\\textbar{}                                                                      \\\\\n\t \\textbar{}\\textbar{}Common\\textbar{}Department > Mansehra Steel\\textbar{}Customer\\textbar{}P4\\textbar{}\\textbar{}\\textbar{}                                                                         \\\\\n\t \\textbar{}\\textbar{}Common\\textbar{}Inventory ReOrder > Abib Mart\\textbar{}Customer\\textbar{}P4\\textbar{}\\textbar{}\\textbar{}                                                                       \\\\\n\t \\textbar{}\\textbar{}Common\\textbar{}Gift Receipt > Rembrandts\\textbar{}Customer\\textbar{}P4\\textbar{}\\textbar{}\\textbar{}                                                                           \\\\\n\t \\textbar{}\\textbar{}Common\\textbar{}Order Management > Rembrandts\\textbar{}Customer\\textbar{}P4\\textbar{}\\textbar{}\\textbar{}                                                                       \\\\\n\t \\textbar{}\\textbar{}Common\\textbar{}Webhooks for events\\textbar{}Customer\\textbar{}P4\\textbar{}\\textbar{}\\textbar{}                                                                                 \\\\\n\t \\textbar{}\\textbar{}Common\\textbar{}Combine code bases for Food \\& Retail POS screens\\textbar{}Internal\\textbar{}P4\\textbar{}\\textbar{}\\textbar{}                                                    \\\\\n\t \\textbar{}\\textbar{}Common\\textbar{}Use common grid components for Food \\& Retail reports\\textbar{}Internal\\textbar{}P4\\textbar{}\\textbar{}\\textbar{}                                                \\\\\n\t \\textbar{}\\textbar{}Common\\textbar{}Investigate migration of stack to nextJS\\textbar{}Internal\\textbar{}P4\\textbar{}\\textbar{}\\textbar{}                                                            \\\\\n\t \\textbar{}\\textbar{}Common\\textbar{}Explore event driven archicture for backend\\textbar{}Internal\\textbar{}P4\\textbar{}\\textbar{}\\textbar{}                                                         \\\\\n\t \\textbar{}\\textbar{}Common\\textbar{}Explore K8s driven deployments\\textbar{}Internal\\textbar{}P4\\textbar{}\\textbar{}\\textbar{}                                                                      \\\\\n\t \\textbar{}\\textbar{}\\textbar{}\\textbar{}\\textbar{}\\textbar{}\\textbar{}\\textbar{}                                                                                                                    \\\\\n\\end{tabular}\n",
            "text/html": [
              "<table class=\"dataframe\">\n",
              "<caption>A tibble: 58 × 1</caption>\n",
              "<thead>\n",
              "\t<tr><th scope=col>all</th></tr>\n",
              "\t<tr><th scope=col>&lt;chr&gt;</th></tr>\n",
              "</thead>\n",
              "<tbody>\n",
              "\t<tr><td>||Common|Concave branding|Customer||Done||                                                                                  </td></tr>\n",
              "\t<tr><td>||Common|Invoice designer|Customer||Done||                                                                                  </td></tr>\n",
              "\t<tr><td>||Retail|Shift management in offline mode|Customer||Done||                                                                  </td></tr>\n",
              "\t<tr><td>||Common|Bulk barcode sticker printing|Customer||In Progress|Moved to Aug|                                                  </td></tr>\n",
              "\t<tr><td>||Common|Tax Management|Customer||Not Prioritized|Moved to BL|                                                              </td></tr>\n",
              "\t<tr><td>||Common|Security testing|Internal||Done||                                                                                  </td></tr>\n",
              "\t<tr><td>||Common|Seperation of dev/staging/prod envs|Internal||Done||                                                               </td></tr>\n",
              "\t<tr><td>||Common|Code Refacting to reduce complexity|Internal||In Progress||                                                        </td></tr>\n",
              "\t<tr><td>||Common|Data Seeders|Internal||Not Started|Moved to Aug|                                                                   </td></tr>\n",
              "\t<tr><td>||Common|Server side logging|Internal||Not Prioritized|Moved to BL|                                                         </td></tr>\n",
              "\t<tr><td>||Common|Application insights integration|Internal||Not Prioritized|Moved to BL|                                            </td></tr>\n",
              "\t<tr><td>||Common|Bulk Upload CLI|Internal||Not Started|Moved to Aug|                                                                </td></tr>\n",
              "\t<tr><td>||Food|Recipe Management - Inventory Integration|Customer|P1|In Progress|QA Pending|                                        </td></tr>\n",
              "\t<tr><td>||Food|ODMS - CC to POS Integration|Customer|P1|In Progress|IT19, IT-20|                                                    </td></tr>\n",
              "\t<tr><td>||Food|ODMS - Call Routing to Branch|Customer|P1|In Progress|IT19, IT-20|                                                   </td></tr>\n",
              "\t<tr><td>||Common|Multi Branch|Customer|P3|Not Started|changed from P1 (complexity, lack of technical bandwidth)|                    </td></tr>\n",
              "\t<tr><td>||Common|Bulk barcode sticker printing|Customer|P1|Done|IT19|                                                               </td></tr>\n",
              "\t<tr><td><span style=white-space:pre-wrap>||Common|Provision to Sell Products by &lt;Weight&gt; including Fractions (948)|Customer|P1|In Progress|IT20|                     </span></td></tr>\n",
              "\t<tr><td>||Common|Weight Scale Integration|Customer|P2|Not Started||                                                                 </td></tr>\n",
              "\t<tr><td>||Common|Bulk Upload CLI|Customer|P2|Not Started||                                                                          </td></tr>\n",
              "\t<tr><td>||Common|Data Seeders|Internal|P2|Not Started||                                                                             </td></tr>\n",
              "\t<tr><td>||Common|Product Variants|Customer|P2|Not Started|IT20, changed from P3|                                                    </td></tr>\n",
              "\t<tr><td>||Food|Recipe Management - Reports|Customer|P3|Not Started|Moved to BL|                                                     </td></tr>\n",
              "\t<tr><td>||Common|Webhooks for events|Customer|P4|Not Prioritized|Moved to BL|                                                       </td></tr>\n",
              "\t<tr><td><span style=white-space:pre-wrap>||Common|Combine code bases for Food &amp; Retail POS screens|Internal|P4|Not Prioritized|Moved to BL|                          </span></td></tr>\n",
              "\t<tr><td><span style=white-space:pre-wrap>||Common|Use common grid components for Food &amp; Retail reports|Internal|P4|Not Prioritized|Moved to BL|                      </span></td></tr>\n",
              "\t<tr><td>||Common|Investigate migration of stack to nextJS|Internal|P4|Not Prioritized|Moved to BL|                                  </td></tr>\n",
              "\t<tr><td>||Common|Explore event driven archicture for backend|Internal|P4|Not Prioritized|Moved to BL|                               </td></tr>\n",
              "\t<tr><td>||Common|Explore K8s driven deployments|Internal|P4|Not Prioritized|Moved to BL|                                            </td></tr>\n",
              "\t<tr><td>||Common|Platform - Multi-offerings of POS Software|Internal|P1|Not Started|Product Team REQT|                              </td></tr>\n",
              "\t<tr><td>||Food|Recipe Management - Inventory Integration (QA)|Customer|P3|Not Prioritized|No Customer Interest|                     </td></tr>\n",
              "\t<tr><td>||Common|Partial/Dynamic Search (across all feilds especially back-end)|Internal|P2|Not Started|Overall customer experience|</td></tr>\n",
              "\t<tr><td>||Common|Button Click Required, Enter button does NOT work|Internal|P2|Not Started|Overall customer experience|             </td></tr>\n",
              "\t<tr><td>||Common|Misc / Service Charges (Opposite to Adjustment)|Customer|P1|Not Started|House of Lubricants|                       </td></tr>\n",
              "\t<tr><td>||Common|Expiry Date|Customer|P3|Not Started|Muhammadi DuaKhana|                                                            </td></tr>\n",
              "\t<tr><td><span style=white-space:pre-wrap>||Retail|Receipt updated to display &lt;Amount of Money Saved&gt;|Customer|P3|Not Started|Haji Iftikhar|                          </span></td></tr>\n",
              "\t<tr><td>||Retail|Add to Receipt <Payable, Paid, Return Amount><a0>|Customer|P2|Not Started|Lok Virsa|                                  </td></tr>\n",
              "\t<tr><td>||Retail|Duplicate Receipt|Customer|P2|Not Started|Lok Virsa, Rembrandts|                                                   </td></tr>\n",
              "\t<tr><td><span style=white-space:pre-wrap>||Retail|Search filter for &lt;Name&gt; &lt;Category&gt; on Audit Screen|Customer|P3|Not Started|Rembrandts|                            </span></td></tr>\n",
              "\t<tr><td>||Retail|Add <Unit Price> on Inventory Sreen<a0>|Customer|P3|Not Started|Rembrandts|                                           </td></tr>\n",
              "\t<tr><td>||Retail|Application Analytics|Internal|P2|Not Started|Product Team REQT|                                                   </td></tr>\n",
              "\t<tr><td>||Common|Server side logging|Internal|P4|||                                                                                 </td></tr>\n",
              "\t<tr><td>||Common|Application insights integration|Internal|P4|||                                                                    </td></tr>\n",
              "\t<tr><td>||Food|Deal Management - Inventory Integration|Customer|P4|||                                                               </td></tr>\n",
              "\t<tr><td>||Food|Deal Management - Reports|Customer|P4|||                                                                             </td></tr>\n",
              "\t<tr><td>||Common|Tax Management|Customer|P4|||                                                                                      </td></tr>\n",
              "\t<tr><td><span style=white-space:pre-wrap>||Common|Non Saleable Item &gt; ShikarPuri|Customer|P4|||                                                                      </span></td></tr>\n",
              "\t<tr><td><span style=white-space:pre-wrap>||Common|Department &gt; Mansehra Steel|Customer|P4|||                                                                         </span></td></tr>\n",
              "\t<tr><td><span style=white-space:pre-wrap>||Common|Inventory ReOrder &gt; Abib Mart|Customer|P4|||                                                                       </span></td></tr>\n",
              "\t<tr><td><span style=white-space:pre-wrap>||Common|Gift Receipt &gt; Rembrandts|Customer|P4|||                                                                           </span></td></tr>\n",
              "\t<tr><td><span style=white-space:pre-wrap>||Common|Order Management &gt; Rembrandts|Customer|P4|||                                                                       </span></td></tr>\n",
              "\t<tr><td>||Common|Webhooks for events|Customer|P4|||                                                                                 </td></tr>\n",
              "\t<tr><td><span style=white-space:pre-wrap>||Common|Combine code bases for Food &amp; Retail POS screens|Internal|P4|||                                                    </span></td></tr>\n",
              "\t<tr><td><span style=white-space:pre-wrap>||Common|Use common grid components for Food &amp; Retail reports|Internal|P4|||                                                </span></td></tr>\n",
              "\t<tr><td>||Common|Investigate migration of stack to nextJS|Internal|P4|||                                                            </td></tr>\n",
              "\t<tr><td>||Common|Explore event driven archicture for backend|Internal|P4|||                                                         </td></tr>\n",
              "\t<tr><td>||Common|Explore K8s driven deployments|Internal|P4|||                                                                      </td></tr>\n",
              "\t<tr><td>||||||||                                                                                                                    </td></tr>\n",
              "</tbody>\n",
              "</table>\n"
            ]
          },
          "metadata": {}
        }
      ]
    }
  ]
}